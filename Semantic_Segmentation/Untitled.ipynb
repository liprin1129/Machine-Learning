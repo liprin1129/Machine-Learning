{
 "cells": [
  {
   "cell_type": "code",
   "execution_count": 1,
   "metadata": {},
   "outputs": [],
   "source": [
    "from urllib.request import urlretrieve\n",
    "import os\n",
    "from tqdm import tqdm\n",
    "import shutil\n",
    "import zipfile"
   ]
  },
  {
   "cell_type": "code",
   "execution_count": 2,
   "metadata": {},
   "outputs": [],
   "source": [
    "class DLProgress(tqdm):\n",
    "    last_block = 0\n",
    "\n",
    "    def hook(self, block_num=1, block_size=1, total_size=None):\n",
    "        self.total = total_size\n",
    "        self.update((block_num - self.last_block) * block_size)\n",
    "        self.last_block = block_num"
   ]
  },
  {
   "cell_type": "code",
   "execution_count": 3,
   "metadata": {},
   "outputs": [],
   "source": [
    "def maybe_download_pretrained_vgg(data_dir):\n",
    "    \"\"\"\n",
    "    Download and extract pretrained vgg model if it doesn't exist\n",
    "    :param data_dir: Directory to download the model to\n",
    "    \"\"\"\n",
    "    vgg_filename = 'vgg.zip'\n",
    "    vgg_path = os.path.join(data_dir, 'vgg')\n",
    "    vgg_files = [\n",
    "        os.path.join(vgg_path, 'variables/variables.data-00000-of-00001'),\n",
    "        os.path.join(vgg_path, 'variables/variables.index'),\n",
    "        os.path.join(vgg_path, 'saved_model.pb')]\n",
    "\n",
    "    missing_vgg_files = [vgg_file for vgg_file in vgg_files if not os.path.exists(vgg_file)]\n",
    "    if missing_vgg_files:\n",
    "        # Clean vgg dir\n",
    "        if os.path.exists(vgg_path):\n",
    "            shutil.rmtree(vgg_path)\n",
    "        os.makedirs(vgg_path)\n",
    "\n",
    "        # Download vgg\n",
    "        print('Downloading pre-trained vgg model...')\n",
    "        with DLProgress(unit='B', unit_scale=True, miniters=1) as pbar:\n",
    "            urlretrieve(\n",
    "                'https://s3-us-west-1.amazonaws.com/udacity-selfdrivingcar/vgg.zip',\n",
    "                os.path.join(vgg_path, vgg_filename),\n",
    "                pbar.hook)\n",
    "\n",
    "        # Extract vgg\n",
    "        print('Extracting model...')\n",
    "        zip_ref = zipfile.ZipFile(os.path.join(vgg_path, vgg_filename), 'r')\n",
    "        zip_ref.extractall(data_dir)\n",
    "        zip_ref.close()\n",
    "\n",
    "        # Remove zip file to save space\n",
    "        os.remove(os.path.join(vgg_path, vgg_filename))"
   ]
  },
  {
   "cell_type": "code",
   "execution_count": 4,
   "metadata": {},
   "outputs": [
    {
     "name": "stderr",
     "output_type": "stream",
     "text": [
      "\r",
      "0.00B [00:00, ?B/s]"
     ]
    },
    {
     "name": "stdout",
     "output_type": "stream",
     "text": [
      "Downloading pre-trained vgg model...\n"
     ]
    },
    {
     "name": "stderr",
     "output_type": "stream",
     "text": [
      "997MB [04:17, 3.87MB/s]                               \n"
     ]
    },
    {
     "name": "stdout",
     "output_type": "stream",
     "text": [
      "Extracting model...\n"
     ]
    }
   ],
   "source": [
    "maybe_download_pretrained_vgg('./')"
   ]
  }
 ],
 "metadata": {
  "kernelspec": {
   "display_name": "Python 3",
   "language": "python",
   "name": "python3"
  },
  "language_info": {
   "codemirror_mode": {
    "name": "ipython",
    "version": 3
   },
   "file_extension": ".py",
   "mimetype": "text/x-python",
   "name": "python",
   "nbconvert_exporter": "python",
   "pygments_lexer": "ipython3",
   "version": "3.5.0"
  }
 },
 "nbformat": 4,
 "nbformat_minor": 2
}
