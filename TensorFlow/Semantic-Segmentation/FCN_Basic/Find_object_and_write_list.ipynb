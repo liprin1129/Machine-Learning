{
 "cells": [
  {
   "cell_type": "code",
   "execution_count": 1,
   "metadata": {},
   "outputs": [],
   "source": [
    "import xml.etree.ElementTree as ET\n",
    "import sys\n",
    "import os"
   ]
  },
  {
   "cell_type": "raw",
   "metadata": {},
   "source": [
    "sys.path.append(\"/Users/pure/Developments/Personal-Study/Machine-Learning/Data/\")"
   ]
  },
  {
   "cell_type": "raw",
   "metadata": {},
   "source": [
    "sys.path"
   ]
  },
  {
   "cell_type": "code",
   "execution_count": 2,
   "metadata": {},
   "outputs": [
    {
     "name": "stdout",
     "output_type": "stream",
     "text": [
      "17125 2913\n"
     ]
    }
   ],
   "source": [
    "annotation_list = os.listdir(\"/Users/pure/Developments/Personal-Study/Machine-Learning/Data/VOC2012/Annotations\")\n",
    "class_list = os.listdir(\"/Users/pure/Developments/Personal-Study/Machine-Learning/Data/VOC2012/SegmentationClass\")\n",
    "print(len(annotation_list), len(class_list))"
   ]
  },
  {
   "cell_type": "raw",
   "metadata": {},
   "source": [
    "class_list"
   ]
  },
  {
   "cell_type": "code",
   "execution_count": 4,
   "metadata": {},
   "outputs": [],
   "source": [
    "person_list = []\n",
    "\n",
    "for l in annotation_list:\n",
    "    ann_name, _ = os.path.splitext(l)\n",
    "    \n",
    "    for c in class_list:\n",
    "        class_name, _ = os.path.splitext(c)\n",
    "        if ann_name == class_name:\n",
    "            #print(l)\n",
    "\n",
    "            tree = ET.parse('/Users/pure/Developments/Personal-Study/Machine-Learning/Data/VOC2012/Annotations/'+l)\n",
    "            root = tree.getroot()\n",
    "            \n",
    "            for obj in root.findall('object'):\n",
    "                if obj.find('name').text == 'person':\n",
    "                    #print(True)\n",
    "                    person_list.append(l)"
   ]
  },
  {
   "cell_type": "code",
   "execution_count": 5,
   "metadata": {},
   "outputs": [
    {
     "data": {
      "text/plain": [
       "1734"
      ]
     },
     "execution_count": 5,
     "metadata": {},
     "output_type": "execute_result"
    }
   ],
   "source": [
    "len(person_list)"
   ]
  },
  {
   "cell_type": "code",
   "execution_count": 7,
   "metadata": {},
   "outputs": [],
   "source": [
    "with open('/Users/pure/Developments/Personal-Study/Machine-Learning/Data/VOC2012/person.txt', 'a') as fw:\n",
    "    for person in person_list:\n",
    "        fw.write(person+\"\\n\")"
   ]
  },
  {
   "cell_type": "raw",
   "metadata": {},
   "source": [
    "tree = ET.parse('/Users/pure/Developments/Personal-Study/Machine-Learning/Data/VOC2012/Annotations/2007_000032.xml')\n",
    "root = tree.getroot()\n",
    "\n",
    "for obj in root.findall('object'):\n",
    "    print(obj.find('name').text)\n",
    "    if obj.find('name').text == 'person':\n",
    "        print(True)"
   ]
  },
  {
   "cell_type": "code",
   "execution_count": null,
   "metadata": {},
   "outputs": [],
   "source": []
  }
 ],
 "metadata": {
  "kernelspec": {
   "display_name": "Python 3",
   "language": "python",
   "name": "python3"
  },
  "language_info": {
   "codemirror_mode": {
    "name": "ipython",
    "version": 3
   },
   "file_extension": ".py",
   "mimetype": "text/x-python",
   "name": "python",
   "nbconvert_exporter": "python",
   "pygments_lexer": "ipython3",
   "version": "3.6.5"
  }
 },
 "nbformat": 4,
 "nbformat_minor": 2
}
