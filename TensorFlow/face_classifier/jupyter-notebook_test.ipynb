{
 "cells": [
  {
   "cell_type": "code",
   "execution_count": 1,
   "metadata": {},
   "outputs": [],
   "source": [
    "import tensorflow as tf\n",
    "from tensorflow.contrib.layers import flatten\n",
    "\n",
    "import numpy as np\n",
    "import matplotlib.pyplot as plt\n",
    "%matplotlib inline\n",
    "from data_wrangling import PickleHelper"
   ]
  },
  {
   "cell_type": "markdown",
   "metadata": {},
   "source": [
    "# Face"
   ]
  },
  {
   "cell_type": "code",
   "execution_count": null,
   "metadata": {},
   "outputs": [],
   "source": [
    "img_data = PickleHelper.load_pickle(path = \"../../Data/Face/\", name = \"faces-features.pkl\")"
   ]
  },
  {
   "cell_type": "code",
   "execution_count": null,
   "metadata": {},
   "outputs": [],
   "source": [
    "print(len(np.shape(img_data)))\n",
    "print(np.shape(np.reshape(img_data, (-1, np.shape(img_data)[1], np.shape(img_data)[2], 1))))"
   ]
  },
  {
   "cell_type": "code",
   "execution_count": null,
   "metadata": {},
   "outputs": [],
   "source": [
    "img = img_data[0]\n",
    "plt.imshow(img, cmap=\"gray\")\n",
    "\n",
    "print(np.max(img))"
   ]
  },
  {
   "cell_type": "markdown",
   "metadata": {},
   "source": [
    "import cv2\n",
    "\n",
    "img_norm = None\n",
    "img_norm = cv2.normalize(img, dst=img_norm, alpha=0, beta=1, norm_type=cv2.NORM_MINMAX, dtype=-1)\n",
    "'''\n",
    "def scailing(img, new_min = 0, new_max = 255):\n",
    "    old_max = np.max(img)\n",
    "    old_min = np.min(img)\n",
    "\n",
    "    print(old_max, old_min)\n",
    "    return ((new_max - new_min) / (old_max - old_min)) * (img - old_min) + new_min\n",
    "'''\n",
    "img_norm = scailing(img, 0, 255)\n",
    "print(np.min(img_norm), np.max(img_norm))\n",
    "plt.imshow(img_norm, cmap=\"gray\")"
   ]
  },
  {
   "cell_type": "code",
   "execution_count": null,
   "metadata": {},
   "outputs": [],
   "source": [
    "img_shape = np.shape(img_data)\n",
    "print(img_shape, len(img_shape))\n",
    "assert len(img_shape) == 4, (\"\\nCUSTOM ERROR! ---> Input data shape isn't correct. The shape is {shape}\".format(shape=img_shape))"
   ]
  },
  {
   "cell_type": "code",
   "execution_count": null,
   "metadata": {},
   "outputs": [],
   "source": [
    "class net_setup(object):\n",
    "    \n",
    "    @classmethod\n",
    "    def filter_variable(cls, in_depth, out_depth, node_name):\n",
    "        return tf.Variable(\n",
    "            tf.truncated_normal((3, 3, in_depth, out_depth), stddev=0.1, dtype=tf.float32),\n",
    "            name=node_name+\"-filter\")\n",
    "    \n",
    "    def bias_variable(cls, size, node_name):\n",
    "        return tf.Variable(\n",
    "            tf.zeros([size], dtype=tf.float32), \n",
    "            name=node_name+\"-bias\")\n",
    "\n",
    "    \n",
    "class VGG16(net_setup):\n",
    "    def __init__(self):\n",
    "        self.__net_setting = None\n",
    "\n",
    "    def input_node(self, in_data):\n",
    "        img_shape = np.shape(in_data)\n",
    " \n",
    "        if len(img_shape) < 4:\n",
    "            in_data = np.reshape(in_data, (-1, np.shape(img_data)[1], np.shape(img_data)[2], 1))\n",
    "            img_shape = np.shape(in_data)\n",
    " \n",
    "        img_shape = (None, np.shape(in_data)[1], np.shape(in_data)[2], np.shape(in_data)[3])\n",
    "    \n",
    "        assert len(img_shape) == 4, (\"\\nCUSTOM ERROR! ---> Input data shape isn't correct. The shape is {shape}\".format(shape=img_shape))\n",
    "        \n",
    "        return tf.placeholder(tf.float32, shape=img_shape)\n",
    "    \n",
    "    def convolutional_node(self, in_data, out_depth, name):\n",
    "        with tf.variable_scope(name):\n",
    "            conv_filter = self.filter_variable(in_depth=in_data.get_shape().as_list()[-1], out_depth=12, node_name=name)\n",
    "            #print(conv_filter.shape)\n",
    "            conv_bias = self.bias_variable(size=12, node_name=name)\n",
    "            #print(conv_bias.shape)\n",
    "\n",
    "            conv = tf.nn.conv2d(in_data, conv_filter, [1, 1, 1, 1], padding=\"SAME\")\n",
    "            conv = tf.nn.bias_add(conv, conv_bias)\n",
    "\n",
    "            conv = tf.nn.relu(conv)\n",
    "\n",
    "            return conv\n",
    "        \n",
    "    def architecture(self):\n",
    "        conv1_1 = self.convolutional_node(1, 12)"
   ]
  },
  {
   "cell_type": "markdown",
   "metadata": {},
   "source": [
    "conv1_kernel = 5\n",
    "conv1_filter = 32\n",
    "conv1_stride = 1\n",
    "img_channel = 1\n",
    "\n",
    "img_shape = (None, 28, 28, img_channel)\n",
    "x = tf.placeholder(tf.float32, shape=img_shape)\n",
    "print(x.shape)\n",
    "\n",
    "conv1_W = tf.Variable(\n",
    "    tf.truncated_normal(\n",
    "        [conv1_kernel, conv1_kernel, img_channel, conv1_filter],\n",
    "        stddev=0.1, dtype=tf.float32)) # 5x5 filter shape, 1->32 \n",
    "\n",
    "print(conv1_W.shape)\n",
    "\n",
    "    # CONV1 -> RELU1 -> MAXPOOL1                                                                                                                                                                                                                                             \n",
    "conv1 = tf.nn.conv2d(x,\n",
    "                     conv1_W,\n",
    "                     strides=[conv1_stride, conv1_stride, conv1_stride, conv1_stride],\n",
    "                     padding='SAME')\n",
    "\n",
    "with tf.Session() as sess:\n",
    "    sess.run(tf.global_variables_initializer())\n",
    "    sess.run(conv1)"
   ]
  },
  {
   "cell_type": "code",
   "execution_count": null,
   "metadata": {},
   "outputs": [],
   "source": [
    "vgg16 = VGG16()\n",
    "\n",
    "a = vgg16.input_node(img_data)\n",
    "print(type(a.get_shape().as_list()))\n",
    "\n",
    "with tf.Session() as sess:\n",
    "    conv1_1 = vgg16.convolutional_node(a, 12, \"conv1_1\")\n",
    "    sess.run(tf.global_variables_initializer())"
   ]
  },
  {
   "cell_type": "markdown",
   "metadata": {},
   "source": [
    "# Objects"
   ]
  },
  {
   "cell_type": "code",
   "execution_count": null,
   "metadata": {},
   "outputs": [],
   "source": [
    "#img_data = unpickle(\"../../Data/Objects/cifar-100-python/train\")\n",
    "features = PickleHelper.load_pickle(path = \"../../Data/Face/\", name = \"faces-features.pkl\")\n",
    "img_data = PickleHelper.load_pickle(path = \"../../Data/Objects/cifar-100-python/\", name = \"train\")[b'data']"
   ]
  },
  {
   "cell_type": "code",
   "execution_count": null,
   "metadata": {},
   "outputs": [],
   "source": [
    "print(features.shape)\n",
    "print(img_data.shape)"
   ]
  },
  {
   "cell_type": "code",
   "execution_count": null,
   "metadata": {},
   "outputs": [],
   "source": [
    "sample = np.reshape(img_data, (-1, 3, 32, 32))\n",
    "print(sample.shape)\n",
    "sample = np.moveaxis(sample, 1, 3)\n",
    "print(sample.shape)"
   ]
  },
  {
   "cell_type": "code",
   "execution_count": null,
   "metadata": {},
   "outputs": [],
   "source": [
    "plt.imshow(features[0])"
   ]
  },
  {
   "cell_type": "code",
   "execution_count": null,
   "metadata": {},
   "outputs": [],
   "source": [
    "plt.imshow(sample[20])"
   ]
  },
  {
   "cell_type": "code",
   "execution_count": null,
   "metadata": {},
   "outputs": [],
   "source": [
    "np.shape(np.vstack([features, sample]))"
   ]
  },
  {
   "cell_type": "code",
   "execution_count": null,
   "metadata": {},
   "outputs": [],
   "source": [
    "label1 = np.ones(len(features))\n",
    "label2 = np.zeros(len(sample))\n",
    "print(label1.shape, label2.shape)\n",
    "np.shape(np.hstack([label1, label2]))"
   ]
  },
  {
   "cell_type": "markdown",
   "metadata": {},
   "source": [
    "---"
   ]
  },
  {
   "cell_type": "code",
   "execution_count": null,
   "metadata": {},
   "outputs": [],
   "source": [
    "arr = np.arange(9).reshape((3, 3))\n",
    "print(arr)\n",
    "np.random.shuffle(arr)\n",
    "arr"
   ]
  },
  {
   "cell_type": "markdown",
   "metadata": {},
   "source": [
    "# Check"
   ]
  },
  {
   "cell_type": "code",
   "execution_count": 2,
   "metadata": {},
   "outputs": [
    {
     "name": "stdout",
     "output_type": "stream",
     "text": [
      "../../Data/Face/\n",
      "input_size:  275555496\n",
      "\t=> Load 'faces-obj-features.pkl' to '../../Data/Face/'\n",
      "../../Data/Face/\n",
      "input_size:  717753\n",
      "\t=> Load 'faces-obj-labels.pkl' to '../../Data/Face/'\n"
     ]
    }
   ],
   "source": [
    "features = PickleHelper.load_pickle(path = \"../../Data/Face/\", name = \"faces-obj-features.pkl\")\n",
    "labels = PickleHelper.load_pickle(path = \"../../Data/Face/\", name = \"faces-obj-labels.pkl\")"
   ]
  },
  {
   "cell_type": "code",
   "execution_count": 3,
   "metadata": {},
   "outputs": [
    {
     "data": {
      "text/plain": [
       "array([[[  0,   0,   0],\n",
       "        [  0,   0,   0],\n",
       "        [  0,   0,   0],\n",
       "        ...,\n",
       "        [  0,   0,   0],\n",
       "        [  0,   0,   0],\n",
       "        [  0,   0,   0]],\n",
       "\n",
       "       [[  0,   0,   0],\n",
       "        [  0,   0,   0],\n",
       "        [  0,   0,   0],\n",
       "        ...,\n",
       "        [  0,   0,   0],\n",
       "        [  0,   0,   0],\n",
       "        [  0,   0,   0]],\n",
       "\n",
       "       [[  0,   0,   0],\n",
       "        [  0,   0,   0],\n",
       "        [  0,   0,   1],\n",
       "        ...,\n",
       "        [  0,   0,   0],\n",
       "        [  0,   0,   0],\n",
       "        [  0,   1,   1]],\n",
       "\n",
       "       ...,\n",
       "\n",
       "       [[137, 138, 124],\n",
       "        [142, 140, 127],\n",
       "        [129, 126, 117],\n",
       "        ...,\n",
       "        [129, 127, 120],\n",
       "        [128, 125, 118],\n",
       "        [127, 125, 120]],\n",
       "\n",
       "       [[130, 130, 116],\n",
       "        [136, 134, 121],\n",
       "        [122, 119, 110],\n",
       "        ...,\n",
       "        [125, 121, 110],\n",
       "        [121, 118, 109],\n",
       "        [104, 103,  98]],\n",
       "\n",
       "       [[121, 119, 106],\n",
       "        [129, 127, 114],\n",
       "        [120, 117, 110],\n",
       "        ...,\n",
       "        [123, 117, 105],\n",
       "        [116, 112, 104],\n",
       "        [102, 103,  97]]], dtype=uint8)"
      ]
     },
     "execution_count": 3,
     "metadata": {},
     "output_type": "execute_result"
    }
   ],
   "source": [
    "features[25]"
   ]
  },
  {
   "cell_type": "code",
   "execution_count": 11,
   "metadata": {},
   "outputs": [
    {
     "data": {
      "text/plain": [
       "<matplotlib.image.AxesImage at 0x136124048>"
      ]
     },
     "execution_count": 11,
     "metadata": {},
     "output_type": "execute_result"
    },
    {
     "data": {
      "image/png": "[encoded data removed]",
      "text/plain": [
       "<Figure size 432x288 with 1 Axes>"
      ]
     },
     "metadata": {},
     "output_type": "display_data"
    }
   ],
   "source": [
    "plt.imshow(features[5], cmap='gray')"
   ]
  }
 ],
 "metadata": {
  "kernelspec": {
   "display_name": "Python 3",
   "language": "python",
   "name": "python3"
  },
  "language_info": {
   "codemirror_mode": {
    "name": "ipython",
    "version": 3
   },
   "file_extension": ".py",
   "mimetype": "text/x-python",
   "name": "python",
   "nbconvert_exporter": "python",
   "pygments_lexer": "ipython3",
   "version": "3.6.5"
  }
 },
 "nbformat": 4,
 "nbformat_minor": 2
}
