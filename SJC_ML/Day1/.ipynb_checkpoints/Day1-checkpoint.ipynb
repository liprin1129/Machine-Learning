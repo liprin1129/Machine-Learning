{
 "cells": [
  {
   "cell_type": "markdown",
   "metadata": {
    "slideshow": {
     "slide_type": "slide"
    }
   },
   "source": [
    "# Machine Learning and Adaptive Intelligence - Day 1"
   ]
  },
  {
   "cell_type": "markdown",
   "metadata": {
    "slideshow": {
     "slide_type": "subslide"
    }
   },
   "source": [
    "## Table of Contents\n",
    "\n",
    "1. [What is Machine Learning](#What is Machine Learning)<br>\n",
    "    1.1. [Label Driven Definition](#Label Driven Definition)<br>\n",
    "    1.2. [Data Driven Definition](#Data Driven Definition)<br>\n",
    "2. [Tools Setup](#Tools Setup)<br>\n",
    "3. [Mathematics](#Mathematics)<br>\n",
    "    3.1. [Scalar](#Scalar)<br>\n",
    "    3.2. [Vector](#Vector)<br>\n",
    "    3.3. [Matrix](#Matrix)<br>\n",
    "    3.4. [Tensor](#Tensor)<br>\n",
    "4. [Linear Algebra](#Linear Algebra)<br>\n",
    "    4.1. [Vector dot product](#Vector dot product)<br>\n",
    "    4.2. [Matrix product](#Matrix product)<br>\n",
    "    4.3. [Matrix transpose](#Matrix transpose)<br>\n",
    "    4.4. [Identity matrix](#Identity matrix)<br>\n",
    "    4.5. [Orthogonal matrix](#Orthogonal matrix)<br>\n",
    "    4.6. [Inverse matrix](#Inverse matrix)<br>\n",
    "    4.7. [Pseudo-inverse matrix](#Pseudo-inverse matrix)<br>\n",
    "    4.8. [Norm](#Norm)<br>\n",
    "    4.9. [Trace](#Trace)<br>\n",
    "    4.10. [Eigenvalues and Eigenvectors](#Eigenvalues and Eigenvectors)<br>\n",
    "    4.11. [Eigendecomposition](#Eigendecomposition)<br>\n",
    "4. [Discusion](#Discusion)"
   ]
  },
  {
   "cell_type": "markdown",
   "metadata": {
    "slideshow": {
     "slide_type": "slide"
    }
   },
   "source": [
    "---\n",
    "## 1. What is Machine Learning? <a name=\"What is Machine Learning\"></a>"
   ]
  },
  {
   "cell_type": "markdown",
   "metadata": {
    "slideshow": {
     "slide_type": "subslide"
    }
   },
   "source": [
    "<p align=\"center\">\n",
    "<img src='Figs/What is machine learning.png' width=500>\n",
    "</p>\n",
    "\n",
    "$$\n",
    "\\text{Data} + \\text{Model} = \\text{Prediction}\n",
    "$$\n",
    "\n",
    "- Data: observations\n",
    "    - 能動的や受動的に得られる観察\n",
    "    - メタデータの形式を持つ\n",
    "\n",
    "\n",
    "- Model: assumptions\n",
    "    - 前の経験や一般的に信頼できる均整に基づく知識。\n",
    "\n",
    "\n",
    "- Prediction: an action to be taken, a categorization, or a quality score<br>\n",
    "    - 様々なタスク\n",
    "\n",
    "Fig reference: [Will big data change use social media](https://tnw.to/2tM8Poe)"
   ]
  },
  {
   "cell_type": "markdown",
   "metadata": {
    "slideshow": {
     "slide_type": "subslide"
    }
   },
   "source": [
    "例えば、<br>\n",
    "**Data:** 北から吹く風、　Aさんは食欲がない、　高い湿気、　満月、　Aさんは新車を購入した、　鳥が北に移動、　昨日から始まった駅前の道路の工事、　Aさんの上がらない給料<br>\n",
    "\n",
    "**Model:** Aさんは食欲がない+Aさんは新車を購入した+Aさんの上がらない給料<br>\n",
    "\n",
    "**Prediction:** Aさんは今月の生活費が足りない"
   ]
  },
  {
   "cell_type": "markdown",
   "metadata": {
    "slideshow": {
     "slide_type": "slide"
    }
   },
   "source": [
    "### 1.1 Label Driven Definition <a name=\"Label Driven Definition\"></a>"
   ]
  },
  {
   "cell_type": "markdown",
   "metadata": {
    "slideshow": {
     "slide_type": "subslide"
    }
   },
   "source": [
    "#### 1) Supervised Learning (教師あり学習）\n",
    "\n",
    "<p align=\"center\">\n",
    "<img src='Figs/Supervised learning.png' width=500>\n",
    "</p>\n",
    "\n",
    "$$\n",
    "x_n \\rightarrow y_n \\\\\n",
    "\\{ (x_1, y_1), (x_2, y_2), \\cdots, (x_n, y_n) \\}\n",
    "$$\n",
    "\n",
    "教師あり学習アルゴリズムはトレーニングデータの分析し関数を推論する。　そして新しいデータをその関数を使ってマッピングする。"
   ]
  },
  {
   "cell_type": "markdown",
   "metadata": {
    "slideshow": {
     "slide_type": "subslide"
    }
   },
   "source": [
    "#### 2) Unsupervised Learning　(教師なし学習）\n",
    "\n",
    "<p align=\"center\">\n",
    "<img src='Figs/Unsupervised learning.png' width=500>\n",
    "</p>\n",
    "\n",
    "$$\n",
    "\\{ x_1, x_2, x_3, \\cdots, x_n \\}\n",
    "$$"
   ]
  },
  {
   "cell_type": "markdown",
   "metadata": {
    "slideshow": {
     "slide_type": "subslide"
    }
   },
   "source": [
    "#### 3) Reinforcement Learning　(強化学習）\n",
    "\n",
    "<p align=\"center\">\n",
    "<img src='Figs/Reinforcement learning.png' width=500>\n",
    "</p>\n",
    "\n",
    "$$\n",
    "\\{ (x_1, a_1, r_{11}), (x_1, a_2, r_{12}), (x_2, a_1, r_{21}), \\cdots \\}\n",
    "$$"
   ]
  },
  {
   "cell_type": "markdown",
   "metadata": {
    "slideshow": {
     "slide_type": "subslide"
    }
   },
   "source": [
    "**Quiz:** <br>\n",
    "1) 自転車を運転する。 <br>\n",
    "2) 自動車を運転する。 <br>\n",
    "3) 人工衛星で取った写真から明日の天気を予測する。 <br>\n",
    "4) 何人かタグされているいくつかの写真から、始めてみた写真の中の人をタグする。 <br>\n",
    "5) 星付けされている映画から、ジャンル別のお勧め番組表を見る。 <br>\n",
    "6) 始めて行った博物館を地図を見ながら観覧する。 <br>\n",
    "7) 人と付き合うスキルを身につく。 <br>"
   ]
  },
  {
   "cell_type": "markdown",
   "metadata": {
    "slideshow": {
     "slide_type": "slide"
    }
   },
   "source": [
    "### 1.2 Data Driven Definition <a name=\"Data Driven Definition\"></a>\n",
    "\n",
    "#### 1) Continuous\n",
    "<p align=\"center\">\n",
    "<img src='Figs/Continuous data.png' width=500>\n",
    "</p>\n",
    "\n",
    "無限なまたは有限な空間セットの中で何でもサンプルを取ることが可能なデータセット。<br>\n",
    "例えば、時間、温度、速度、電圧、重さ等々。\n",
    "\n",
    "Fig reference: [Stock chart](https://commons.wikimedia.org/wiki/File:S%26P_BSE_SENSEX_chart.svg)"
   ]
  },
  {
   "cell_type": "markdown",
   "metadata": {
    "slideshow": {
     "slide_type": "subslide"
    }
   },
   "source": [
    "#### 2) Discrete\n",
    "<p align=\"center\">\n",
    "<img src='Figs/Discrete data.png' width=500>\n",
    "</p>\n",
    "\n",
    "識別(distinguish)や分離(seperate)することが可能なデータセット。<br>\n",
    "賽、性別、車の種類、SJC社員の数、SJC社員が話せる言語の数等々"
   ]
  },
  {
   "cell_type": "markdown",
   "metadata": {
    "slideshow": {
     "slide_type": "subslide"
    }
   },
   "source": [
    "**Quiz:**\n",
    "1) SJC社員の収入 <br>\n",
    "2) 年齢 <br>\n",
    "3) 好きなアニメキャラクターの人気投票 <br>\n",
    "4) タイヤの空気圧 <br>\n",
    "5) 好きなジャンルの音楽 <br>"
   ]
  },
  {
   "cell_type": "markdown",
   "metadata": {
    "slideshow": {
     "slide_type": "slide"
    }
   },
   "source": [
    "## 2. Tools Setup <a name=\"Tools Setup\"></a>"
   ]
  },
  {
   "cell_type": "markdown",
   "metadata": {
    "slideshow": {
     "slide_type": "subslide"
    }
   },
   "source": [
    "#### 仮想環境確認"
   ]
  },
  {
   "cell_type": "code",
   "execution_count": 1,
   "metadata": {
    "slideshow": {
     "slide_type": "skip"
    }
   },
   "outputs": [
    {
     "data": {
      "text/plain": [
       "'/mnt/SharedData/Development/PythonEnvs/2.7PyEnv'"
      ]
     },
     "execution_count": 1,
     "metadata": {},
     "output_type": "execute_result"
    }
   ],
   "source": [
    "import sys\n",
    "sys.prefix"
   ]
  },
  {
   "cell_type": "markdown",
   "metadata": {
    "slideshow": {
     "slide_type": "subslide"
    }
   },
   "source": [
    "#### パッケージImport確認"
   ]
  },
  {
   "cell_type": "raw",
   "metadata": {
    "scrolled": true,
    "slideshow": {
     "slide_type": "skip"
    }
   },
   "source": [
    "!conda install --yes --prefix {sys.prefix} numpy\n",
    "!conda install --yes --prefix {sys.prefix} pandas\n",
    "!conda install --yes --prefix {sys.prefix} matplotlib\n",
    "!conda install --yes --prefix {sys.prefix} scikit-learn\n",
    "!conda install --yes --prefix {sys.prefix} opencv\n",
    "!conda install --yes --prefix {sys.prefix} pillow\n",
    "!conda install --yes --prefix {sys.prefix} scikit-image\n",
    "!conda install --yes --prefix {sys.prefix} tqdm"
   ]
  },
  {
   "cell_type": "code",
   "execution_count": 2,
   "metadata": {
    "slideshow": {
     "slide_type": "subslide"
    }
   },
   "outputs": [],
   "source": [
    "import numpy as np\n",
    "import pandas as pd\n",
    "import cv2\n",
    "import matplotlib.pyplot as plt\n",
    "from sklearn import datasets\n",
    "from skimage import io\n",
    "from tqdm import tqdm"
   ]
  },
  {
   "cell_type": "markdown",
   "metadata": {
    "slideshow": {
     "slide_type": "slide"
    }
   },
   "source": [
    "---\n",
    "## 3. Mathematics <a name=\"Mathematics\"></a>"
   ]
  },
  {
   "cell_type": "markdown",
   "metadata": {
    "slideshow": {
     "slide_type": "subslide"
    }
   },
   "source": [
    "### 3.1. スカラー (Scalar) <a name=\"Scalar\"></a>\n",
    "\n",
    "**Physics**: quantities that are fully described by a magnitude (or numerical value) alone. <br>\n",
    "物理：特定の座標系とは無関係である量。\n",
    "\n",
    "**Mathematics**: a real or complex number. <br>\n",
    "数学：ベクトル空間においてベクトルを乗算することができる量。\n",
    "\n",
    "**Data Science**: a single number. <br>\n",
    "\n",
    "(Reference: Wikipedia)\n",
    "\n",
    "$$\n",
    "\\text{Type and Size: } \\mathbb{R}\\\\\n",
    "$$\n",
    "$$\n",
    "\\mathbf{x} = x_1\n",
    "$$"
   ]
  },
  {
   "cell_type": "markdown",
   "metadata": {
    "slideshow": {
     "slide_type": "subslide"
    }
   },
   "source": [
    "### 3.2. ベクトル (Vector) <a name=\"Vector\"></a>\n",
    "\n",
    "**Physics & Mathematics**: A vector is an object that has both a magnitude and a direction. <br>\n",
    "\n",
    "**物理＆数学**：大きさに向きを付加した量。 <br>\n",
    "\n",
    "**Data Science**: an array of numbers. Nubers can be real, integer, double, etc.<br>\n",
    "\n",
    "$$\n",
    "\\text{Type and Size: } \\mathbb{R}^n\\\\\n",
    "$$\n",
    "$$\n",
    "\\mathbf{x} = \n",
    "\\begin{bmatrix}\n",
    "    x_{1}\\\\\n",
    "    x_{2}\\\\\n",
    "    \\vdots\\\\\n",
    "    x_{n}\n",
    "\\end{bmatrix}\n",
    "$$"
   ]
  },
  {
   "cell_type": "markdown",
   "metadata": {
    "slideshow": {
     "slide_type": "subslide"
    }
   },
   "source": [
    "### 3.3. Matrix (行列)<a name=\"Matrix\"></a>\n",
    "\n",
    "**Physics & Mathematics**: a rectangular array of numbers. <br>\n",
    "\n",
    "**物理＆数学**：数や記号や式などを行と列に沿って矩形状に配列したもの <br>\n",
    "\n",
    "**Data Science**: a 2-D array of numbers. <br>\n",
    "\n",
    "$$\n",
    "\\text{Type and Size: } \\mathbf{X} \\in \\mathbb{R}^{n\\times m}\\\\\n",
    "$$\n",
    "$$\n",
    "\\mathbf{x} = \n",
    "\\begin{bmatrix}\n",
    "    x_{11} & x_{12} & x_{13} & \\dots  & x_{1m} \\\\\n",
    "    x_{21} & x_{22} & x_{23} & \\dots  & x_{2m} \\\\\n",
    "    \\vdots & \\vdots & \\vdots & \\ddots & \\vdots \\\\\n",
    "    x_{n1} & x_{n2} & x_{n3} & \\dots  & x_{nm}\n",
    "\\end{bmatrix}\n",
    "$$"
   ]
  },
  {
   "cell_type": "markdown",
   "metadata": {
    "slideshow": {
     "slide_type": "subslide"
    }
   },
   "source": [
    "### 3.4. Tensor (テンソル)<a name=\"Tensor\"></a>\n",
    "\n",
    "\n",
    "<p align=\"center\">\n",
    "<img src='Figs/Components_stress_tensor.svg' width=300>\n",
    "</p>\n",
    "\n",
    "**Physics & Mathematics**: geometric objects that describe linear relations between geometric vectors, scalars, and other tensors. Elementary examples of such relations include the dot product, the cross product, and linear maps. <br>\n",
    "\n",
    "**物理＆数学**：線形的な量または線形的な幾何概念を一般化したもので、基底を選べば、多次元の配列として表現できるようなものである。しかし、テンソル自身は、特定の座標系によらないで定まる対象である。個々のテンソルについて、対応する量を記述するのに必要な配列の添字の組の数は、そのテンソルの階数とよばれる。<br>\n",
    "\n",
    "**Data Science**: an array of numbers\n",
    "\n",
    "Fig reference: By <a href=\"//commons.wikimedia.org/wiki/File:Components_stress_tensor_cartesian.svg\" title=\"File:Components stress tensor cartesian.svg\">Components_stress_tensor_cartesian.svg</a>: <a href=\"//commons.wikimedia.org/wiki/User:Sanpaz\" title=\"User:Sanpaz\">Sanpaz</a>derivative work: <a href=\"//commons.wikimedia.org/w/index.php?title=User:TimothyRias&amp;action=edit&amp;redlink=1\" class=\"new\" title=\"User:TimothyRias (page does not exist)\">TimothyRias</a> (<a href=\"//commons.wikimedia.org/wiki/User_talk:TimothyRias\" title=\"User talk:TimothyRias\"><span class=\"signature-talk\">talk</span></a>) - <a href=\"//commons.wikimedia.org/wiki/File:Components_stress_tensor_cartesian.svg\" title=\"File:Components stress tensor cartesian.svg\">Components_stress_tensor_cartesian.svg</a>, <a href=\"https://creativecommons.org/licenses/by-sa/3.0\" title=\"Creative Commons Attribution-Share Alike 3.0\">CC BY-SA 3.0</a>, <a href=\"https://commons.wikimedia.org/w/index.php?curid=14729540\">Link</a>"
   ]
  },
  {
   "cell_type": "markdown",
   "metadata": {
    "slideshow": {
     "slide_type": "subslide"
    }
   },
   "source": [
    "| Rank | Tensor |\n",
    "|------|------|\n",
    "|0|scalar|\n",
    "|1|vector|\n",
    "|2|matrix|\n",
    "|$\\vdots$|mor dimensions|"
   ]
  },
  {
   "cell_type": "markdown",
   "metadata": {
    "slideshow": {
     "slide_type": "subslide"
    }
   },
   "source": [
    "**Quiz: **\n",
    "\n",
    "<p align=\"center\">\n",
    "<img src=\"Figs/145px-Lenna.png\" width=200>\n",
    "</p>\n",
    "\n",
    "Dimension: ? <br>\n",
    "Rank: ? <br>\n",
    "Tensor: ? <br>\n",
    "\n",
    "Fig reference: [OpenCV](https://opencv.org/)"
   ]
  },
  {
   "cell_type": "code",
   "execution_count": 3,
   "metadata": {
    "scrolled": true,
    "slideshow": {
     "slide_type": "skip"
    }
   },
   "outputs": [
    {
     "data": {
      "text/plain": [
       "(145, 145, 4)"
      ]
     },
     "execution_count": 3,
     "metadata": {},
     "output_type": "execute_result"
    }
   ],
   "source": [
    "from skimage import io\n",
    "\n",
    "lenna_skimg = io.imread(\"Figs/145px-Lenna.png\")\n",
    "lenna_skimg.shape"
   ]
  },
  {
   "cell_type": "markdown",
   "metadata": {
    "slideshow": {
     "slide_type": "slide"
    }
   },
   "source": [
    "---\n",
    "## 4. Linear Algebra (線型代数学) <a name=\"Linear Algebra\"></a>"
   ]
  },
  {
   "cell_type": "markdown",
   "metadata": {
    "slideshow": {
     "slide_type": "slide"
    }
   },
   "source": [
    "### 4.1. Vector dot product (ドット積) <a name=\"Vector dot product\"></a>\n",
    "\n",
    "$$\n",
    "AB = C\\\\\n",
    "A \\cdot B = \\sum_{i=1}^n a_i b_i = a_1b_1 + a_1b_2 + \\cdots + a_nb_n = C\n",
    "$$"
   ]
  },
  {
   "cell_type": "code",
   "execution_count": 4,
   "metadata": {
    "slideshow": {
     "slide_type": "subslide"
    }
   },
   "outputs": [
    {
     "name": "stdout",
     "output_type": "stream",
     "text": [
      "A:\n",
      "[[1 2 3]\n",
      " [4 5 6]\n",
      " [7 8 9]] \n",
      "\n",
      "B:\n",
      "[2 3 4] \n",
      "\n",
      "C:\n",
      "[20 47 74] \n",
      "\n"
     ]
    }
   ],
   "source": [
    "A = np.array([[1, 2, 3], \n",
    "              [4, 5, 6], \n",
    "              [7, 8, 9]])\n",
    "\n",
    "B = np.array([2, 3, 4])\n",
    "\n",
    "C = np.dot(A, B)\n",
    "\n",
    "print \"A:\\n\", A, \"\\n\"\n",
    "print \"B:\\n\", B, \"\\n\"\n",
    "print \"C:\\n\", C, \"\\n\""
   ]
  },
  {
   "cell_type": "markdown",
   "metadata": {
    "slideshow": {
     "slide_type": "slide"
    }
   },
   "source": [
    "### 4.2. Matrix product (ドット積)<a name=\"Matrix product\"></a>\n",
    "\n",
    "$$\n",
    "AB = C \\\\[10pt]\n",
    "\\sum_k a_{ik} b_{kj} = C_{ij} \\\\[10pt]\n",
    "$$\n",
    "$$\n",
    "\\begin{aligned}\n",
    "\\mathbf{A} = \n",
    "\\begin{bmatrix}\n",
    "    a_{11} & a_{12} & \\dots  & a_{1m} \\\\\n",
    "    a_{21} & a_{22} & \\dots  & a_{2m} \\\\\n",
    "    \\vdots & \\vdots & \\ddots & \\vdots \\\\\n",
    "    a_{n1} & a_{n2} & \\dots  & a_{nm}\n",
    "\\end{bmatrix}, \\quad\n",
    "\\mathbf{B} = \n",
    "\\begin{bmatrix}\n",
    "    b_{11} & a_{12} & \\dots  & a_{1p} \\\\\n",
    "    b_{21} & a_{22} & \\dots  & a_{2p} \\\\\n",
    "    \\vdots & \\vdots & \\ddots & \\vdots \\\\\n",
    "    b_{m1} & a_{m2} & \\dots  & a_{mp}\n",
    "\\end{bmatrix}, \\quad\n",
    "\\mathbf{C} = \n",
    "\\begin{bmatrix}\n",
    "    c_{11} & a_{12} & \\dots  & a_{1p} \\\\\n",
    "    c_{21} & a_{22} & \\dots  & a_{2p} \\\\\n",
    "    \\vdots & \\vdots & \\ddots & \\vdots \\\\\n",
    "    c_{n1} & a_{n2} & \\dots  & a_{np}\n",
    "\\end{bmatrix}\n",
    "\\end{aligned}\n",
    "$$"
   ]
  },
  {
   "cell_type": "markdown",
   "metadata": {
    "slideshow": {
     "slide_type": "slide"
    }
   },
   "source": [
    "### 4.3. Matrix transpose (転置行列)<a name=\"Matrix transpose\"></a>\n",
    "\n",
    "$$\n",
    "\\begin{aligned}\n",
    "\\begin{bmatrix}\n",
    "    x_1\\\\\n",
    "    x_2\\\\\n",
    "    \\vdots\\\\\n",
    "    x_n\n",
    "\\end{bmatrix}^\\top\n",
    "&=\n",
    "\\begin{bmatrix}\n",
    "    x_1, x_2, \\cdots, x_n\n",
    "\\end{bmatrix} \\\\[10pt]\n",
    "\\begin{bmatrix}\n",
    "    x_{11} & x_{12} & x_{13} & \\dots  & x_{1n} \\\\\n",
    "    x_{21} & x_{22} & x_{23} & \\dots  & x_{2n} \\\\\n",
    "    \\vdots & \\vdots & \\vdots & \\ddots & \\vdots \\\\\n",
    "    x_{m1} & x_{m2} & x_{m3} & \\dots  & x_{mn}\n",
    "\\end{bmatrix}^\\top\n",
    "&=\n",
    "\\begin{bmatrix}\n",
    "    x_{11} & x_{21} & x_{31} & \\dots  & x_{m1} \\\\\n",
    "    x_{12} & x_{22} & x_{32} & \\dots  & x_{m2} \\\\\n",
    "    \\vdots & \\vdots & \\vdots & \\ddots & \\vdots \\\\\n",
    "    x_{1n} & x_{2m} & x_{3m} & \\dots  & x_{mn}\n",
    "\\end{bmatrix}\n",
    "\\end{aligned}\n",
    "$$"
   ]
  },
  {
   "cell_type": "code",
   "execution_count": 5,
   "metadata": {
    "slideshow": {
     "slide_type": "subslide"
    }
   },
   "outputs": [
    {
     "name": "stdout",
     "output_type": "stream",
     "text": [
      "A:\n",
      "[[1 2 3]\n",
      " [4 5 6]\n",
      " [7 8 9]] \n",
      "\n",
      "A transpose:\n",
      "[[1 4 7]\n",
      " [2 5 8]\n",
      " [3 6 9]] \n",
      "\n"
     ]
    }
   ],
   "source": [
    "A = np.array( ((1, 2, 3), (4, 5, 6), (7, 8, 9)) )\n",
    "print \"A:\\n\", A, \"\\n\"\n",
    "print \"A transpose:\\n\", A.transpose(), \"\\n\" # or A.T"
   ]
  },
  {
   "cell_type": "markdown",
   "metadata": {
    "slideshow": {
     "slide_type": "slide"
    }
   },
   "source": [
    "### 4.4. Identity matrix (単位行列)<a name=\"Identity matrix\"></a>\n",
    "\n",
    "$$\n",
    "\\mathbf{I} =\n",
    "\\begin{bmatrix}\n",
    "    1 & 0 & \\cdots & 0 \\\\\n",
    "    0 & 1 & \\cdots & 0 \\\\\n",
    "    \\vdots & \\vdots & \\ddots & \\vdots \\\\\n",
    "    0 & 0 & \\cdots & 1 \\\\\n",
    "\\end{bmatrix}\n",
    "$$\n",
    "\n",
    "$$\n",
    "\\forall \\mathbf{A} \\in \\mathbb{R}^{nm}, \\quad \\mathbf{A} \\mathbf{I} = \\mathbf{I} \\mathbf{A} = \\mathbf{A}\n",
    "$$"
   ]
  },
  {
   "cell_type": "code",
   "execution_count": 6,
   "metadata": {
    "slideshow": {
     "slide_type": "subslide"
    }
   },
   "outputs": [
    {
     "name": "stdout",
     "output_type": "stream",
     "text": [
      "A*I:\n",
      "[[1 2 3]\n",
      " [4 5 6]\n",
      " [7 8 9]] \n",
      "\n"
     ]
    }
   ],
   "source": [
    "A = np.array( ((1, 2, 3), (4, 5, 6), (7, 8, 9)) )\n",
    "I = np.diag((1, 1, 1))\n",
    "print \"A*I:\\n\", np.dot(I, A), \"\\n\""
   ]
  },
  {
   "cell_type": "markdown",
   "metadata": {
    "slideshow": {
     "slide_type": "slide"
    }
   },
   "source": [
    "### 4.5. Orthogonal matrix (直交行列)<a name=\"Orthogonal matrix\"></a>\n",
    "\n",
    "<p align=\"center\">\n",
    "<img src=\"Figs/orthogonal.gif\" width=200>\n",
    "</p>\n",
    "\n",
    "$$\n",
    "\\begin{align}\n",
    "\\mathbf{A}^\\top\\mathbf{A} = \\mathbf{A}\\mathbf{A}^\\top = \\mathbf{I} \\\\[10pt]\n",
    "\\mathbf{A}^\\top=\\mathbf{A}^{-1}\n",
    "\\end{align}\n",
    "$$"
   ]
  },
  {
   "cell_type": "code",
   "execution_count": 7,
   "metadata": {
    "slideshow": {
     "slide_type": "subslide"
    }
   },
   "outputs": [
    {
     "name": "stdout",
     "output_type": "stream",
     "text": [
      "A:\n",
      "[[ 0.          0.4472136   0.89442719]\n",
      " [ 1.          0.          0.        ]\n",
      " [ 0.          0.89442719 -0.4472136 ]] \n",
      "\n",
      "A*A_transpose:\n",
      "[[1. 0. 0.]\n",
      " [0. 1. 0.]\n",
      " [0. 0. 1.]] \n",
      "\n",
      "A_transpose*A:\n",
      "[[1. 0. 0.]\n",
      " [0. 1. 0.]\n",
      " [0. 0. 1.]] \n",
      "\n"
     ]
    }
   ],
   "source": [
    "A = np.array([[0, 1/np.sqrt(5), 2/np.sqrt(5)], [1, 0, 0], [0, 2/np.sqrt(5), -1/np.sqrt(5)]])\n",
    "print \"A:\\n\", A, \"\\n\"\n",
    "print \"A*A_transpose:\\n\", np.round(np.dot(A, A.T), 2), \"\\n\"\n",
    "print \"A_transpose*A:\\n\", np.round(np.dot(A, A.T), 2), \"\\n\""
   ]
  },
  {
   "cell_type": "markdown",
   "metadata": {
    "slideshow": {
     "slide_type": "slide"
    }
   },
   "source": [
    "### 4.6. Inverse matrix (正則行列) <a name=\"Inverse matrix\"></a>\n",
    "\n",
    "$$\n",
    "\\begin{align}\n",
    "\\mathbf{A} \\mathbf{A}^{-1} &= I,\\\\ \n",
    "&\\text{only if } n=m \\text{ or } \\mathbf{A} \\text{ is not redundant}\n",
    "\\end{align}\n",
    "$$"
   ]
  },
  {
   "cell_type": "code",
   "execution_count": 8,
   "metadata": {
    "slideshow": {
     "slide_type": "subslide"
    }
   },
   "outputs": [
    {
     "name": "stdout",
     "output_type": "stream",
     "text": [
      "A*A_inverse:\n",
      "[[ 1.00000000e+00 -1.11022302e-16]\n",
      " [ 0.00000000e+00  1.00000000e+00]] \n",
      "\n"
     ]
    }
   ],
   "source": [
    "A = np.array([[3, 2], [1, -3]])\n",
    "A_inv = np.linalg.inv(A)\n",
    "\n",
    "print \"A*A_inverse:\\n\", np.dot(A, A_inv), \"\\n\""
   ]
  },
  {
   "cell_type": "markdown",
   "metadata": {
    "slideshow": {
     "slide_type": "subslide"
    }
   },
   "source": [
    "**Quiz**:\n",
    "$$\n",
    "\\begin{align}\n",
    "3x+2y&=8 \\\\\n",
    "x-3y&=2 \\\\[10pt]\n",
    "\\end{align}\n",
    "$$\n",
    "\n",
    "$$\n",
    "x = ? \\quad, \\quad y = ?\n",
    "$$"
   ]
  },
  {
   "cell_type": "markdown",
   "metadata": {
    "slideshow": {
     "slide_type": "subslide"
    }
   },
   "source": [
    "$$\n",
    "\\begin{bmatrix}\n",
    "    3 & 2\\\\\n",
    "    1 & -3\\\\\n",
    "\\end{bmatrix}\n",
    "\\begin{bmatrix}\n",
    "    x\\\\\n",
    "    y\\\\\n",
    "\\end{bmatrix} =\n",
    "\\begin{bmatrix}\n",
    "    8\\\\\n",
    "    2\\\\\n",
    "\\end{bmatrix}\n",
    "$$\n",
    "\n",
    "$$\n",
    "\\begin{align}\n",
    "\\\\[10pt]\n",
    "\\mathbf{A}\\mathbf{b}&=\\mathbf{c}\\\\\n",
    "\\mathbf{A}^{-1}\\mathbf{A}\\mathbf{b}&=\\mathbf{A}^{-1}\\mathbf{c}\\\\\n",
    "\\mathbf{I}\\mathbf{b}&=\\mathbf{A}^{-1}\\mathbf{c}\\\\\n",
    "\\mathbf{b}&=\\mathbf{A}^{-1}\\mathbf{c}\\\\[10pt]\n",
    "\\therefore b  =\n",
    "\\begin{bmatrix}\n",
    "    1\\\\\n",
    "    1\n",
    "\\end{bmatrix}\n",
    "\\end{align}\n",
    "$$"
   ]
  },
  {
   "cell_type": "code",
   "execution_count": 9,
   "metadata": {
    "scrolled": true,
    "slideshow": {
     "slide_type": "subslide"
    }
   },
   "outputs": [
    {
     "name": "stdout",
     "output_type": "stream",
     "text": [
      "A: \n",
      "[[ 3  2]\n",
      " [ 1 -3]] \n",
      "\n",
      "A inverse: \n",
      "[[ 0.27272727  0.18181818]\n",
      " [ 0.09090909 -0.27272727]] \n",
      "\n",
      "Solution: \n",
      "[[1.]\n",
      " [1.]]\n"
     ]
    }
   ],
   "source": [
    "A = np.array([[3, 2], [1, -3]])\n",
    "C = np.array([[5], [-2]])\n",
    "A_inv = np.linalg.inv(A)\n",
    "print \"A: \\n\", A, \"\\n\"\n",
    "print \"A inverse: \\n\", A_inv, \"\\n\"\n",
    "print \"Solution: \\n\", np.dot(A_inv, C)"
   ]
  },
  {
   "cell_type": "markdown",
   "metadata": {
    "slideshow": {
     "slide_type": "slide"
    }
   },
   "source": [
    "### 4.7. Pseudo-inverse matrix (Moore–Penrose inverse) <a name=\"Pseudo-inverse matrix\"></a>\n",
    "\n",
    "**But what if A is not invertible, but we want to get A inverse?** <br>\n",
    "Such as to find \"best fit\" a solution when matrix has no solution, or multiple solutions.\n",
    "\n",
    "If columns are linearly independent, $A^{\\top}A$ is invertible. <br>\n",
    "$$\n",
    "\\begin{align}\n",
    "A^+ &= (A^{\\top} \\cdot A)^{-1} \\cdot A^\\top \\\\[10pt]\n",
    "\\text{Then,} &\\quad A^+ \\cdot A = I\n",
    "\\end{align}\n",
    "$$\n",
    "\n",
    "If rows are linearly independent, $AA^{\\top}$ is invertible. <br>\n",
    "$$\n",
    "\\begin{align}\n",
    "A^+ &= A^\\top \\cdot (A^{\\top} \\cdot A)^{-1}\\\\[10pt]\n",
    "\\text{Then,} &\\quad A \\cdot A^+ = I\n",
    "\\end{align}\n",
    "$$"
   ]
  },
  {
   "cell_type": "code",
   "execution_count": 10,
   "metadata": {
    "slideshow": {
     "slide_type": "subslide"
    }
   },
   "outputs": [
    {
     "name": "stdout",
     "output_type": "stream",
     "text": [
      "A:\n",
      "[[1 1 1 1]\n",
      " [5 7 7 9]] \n",
      "\n",
      "A_transpose * A: \n",
      "[[26 36 36 46]\n",
      " [36 50 50 64]\n",
      " [36 50 50 64]\n",
      " [46 64 64 82]] \n",
      "\n",
      "A * A_transpose: \n",
      "[[  4  28]\n",
      " [ 28 204]] \n",
      "\n",
      "A_+: \n",
      "[[ 2.00000000e+00 -2.50000000e-01]\n",
      " [ 2.50000000e-01  1.11022302e-16]\n",
      " [ 2.50000000e-01  1.11022302e-16]\n",
      " [-1.50000000e+00  2.50000000e-01]] \n",
      "\n",
      "Result: \n",
      "[[ 1.  0.]\n",
      " [-0.  1.]] \n",
      "\n"
     ]
    }
   ],
   "source": [
    "A = np.array([[1, 1, 1, 1], [5, 7, 7, 9]])\n",
    "print \"A:\\n\", A, \"\\n\"\n",
    "print \"A_transpose * A: \\n\", np.dot(A.T, A), \"\\n\"\n",
    "print \"A * A_transpose: \\n\", np.dot(A, A.T), \"\\n\"\n",
    "print \"A_+: \\n\", np.dot(A.T, np.linalg.inv(np.dot(A, A.T))), \"\\n\"\n",
    "print \"Result: \\n\", np.round(np.dot(A, np.dot(A.T, np.linalg.inv(np.dot(A, A.T)))), 2), \"\\n\""
   ]
  },
  {
   "cell_type": "markdown",
   "metadata": {
    "slideshow": {
     "slide_type": "slide"
    }
   },
   "source": [
    "### 4.8. Norm (ノルム) <a name=\"Norm\"></a>\n",
    "\n",
    "How large a vector is (or far from origin).\n",
    "平面あるいは空間における幾何学的ベクトルの \"長さ\" の概念の一般化であり、ベクトル空間に対して「距離」を与えるための数学の道具である。\n",
    "\n",
    "#### Norm:\n",
    "$$\n",
    "\\left\\| A \\right\\|_\\mu = \\biggr( \\sum_i \\| x_i \\|^\\mu \\biggr)^{\\frac{1}{\\mu}}\n",
    "$$\n",
    "\n",
    "#### L1 Norm: $\\mu=1$\n",
    "$$\n",
    "\\left\\| A \\right\\| = \\sum_i \\| x_i \\|\n",
    "$$\n",
    "\n",
    "#### L2 Norm: $\\mu=2$\n",
    "$$\n",
    "\\left\\| A \\right\\|_2 = \\biggr( \\sum_i \\| x_i \\|^2 \\biggr)^{\\frac{1}{2}}\n",
    "$$"
   ]
  },
  {
   "cell_type": "markdown",
   "metadata": {
    "slideshow": {
     "slide_type": "slide"
    }
   },
   "source": [
    "### 4.9. Trace (跡) <a name=\"Trace\"></a>\n",
    "\n",
    "$$\n",
    "\\text{Tr}(\\mathbf{A}) = \\sum_i a_{i, i}, \\quad \\text{ if only if } \\mathbf{A} \\in \\mathbb{R}^{n,n}\n",
    "$$\n",
    "\n",
    "$$\n",
    "\\text{Tr}(\\mathbf{A}\\mathbf{B}) = \\text{Tr}(\\mathbf{B}\\mathbf{A})\n",
    "$$"
   ]
  },
  {
   "cell_type": "markdown",
   "metadata": {
    "slideshow": {
     "slide_type": "slide"
    }
   },
   "source": [
    "### 4.10. Eigenvalues and Eigenvectors (固有値) <a name=\"Eigenvalues and Eigenvectors\"></a>\n",
    "\n",
    "$$\n",
    "\\begin{align}\n",
    "\\mathbf{A}\\mathbf{v} &= \\mathbf{\\lambda}\\mathbf{v} \\\\[5pt]\n",
    "\\mathbf{v} &\\text{ : eigenvector} \\\\\n",
    "\\mathbf{\\lambda} &\\text{ : eigenvalue} \\\\[20pt]\n",
    "\\end{align}\n",
    "$$\n",
    "\n",
    "$$\n",
    "(\\mathbf{A}-\\mathbf{\\lambda}\\mathbf{I})\\mathbf{v} = 0\n",
    "$$"
   ]
  },
  {
   "cell_type": "markdown",
   "metadata": {
    "slideshow": {
     "slide_type": "subslide"
    }
   },
   "source": [
    "$$\n",
    "\\begin{align}\n",
    "\\mathbf{A} =\n",
    "\\begin{bmatrix}\n",
    "    8 & 3\\\\\n",
    "    2 & 7\\\\\n",
    "\\end{bmatrix} \\\\[10pt]\n",
    "\\text{det}\n",
    "\\begin{bmatrix}\n",
    "    8-\\lambda & 3\\\\\n",
    "    2 & 7-\\lambda\\\\\n",
    "\\end{bmatrix} \n",
    "&= \\lambda^2 - \\frac{3}{2}\\lambda + \\frac{1}{2} \\\\ \n",
    "&= (\\lambda -1)(\\lambda - \\frac{1}{2}) \\\\[10pt]\n",
    "\\therefore \\text{eigenvalues } \\lambda = 1,\\quad 0.5\n",
    "\\end{align}\n",
    "$$\n",
    "\n",
    "**Quiz:** <br>\n",
    "**eigenvectors** : ?"
   ]
  },
  {
   "cell_type": "markdown",
   "metadata": {
    "slideshow": {
     "slide_type": "slide"
    }
   },
   "source": [
    "### 4.11. Eigendecomposition  (Canonical form) (固有値分解) <a name=\"Eigendecomposition\"></a>\n",
    "\n",
    "$$\n",
    "\\mathbf{A} = \\mathbf{V}\\mathbf{\\Lambda}\\mathbf{V}^{-1}\n",
    "$$\n",
    "\n",
    "$\\mathbf{V}$: $\\mathbf{V} \\in \\mathbb{R}^{nn}$, and its $j^{th}$ column is the eigenvector $\\mathbf{q}_j$ of $\\mathbf{A}$ <br>\n",
    "$\\mathbf{Λ}$: the diagonal matrix whose diagonal elements are the corresponding eigenvalues of $\\mathbf{A}$"
   ]
  },
  {
   "cell_type": "code",
   "execution_count": 11,
   "metadata": {
    "slideshow": {
     "slide_type": "subslide"
    }
   },
   "outputs": [
    {
     "name": "stdout",
     "output_type": "stream",
     "text": [
      "A:\n",
      "[[8 3]\n",
      " [2 7]] \n",
      "\n",
      "eigenvalues:\n",
      "[[10.  0.]\n",
      " [ 0.  5.]] \n",
      "\n",
      "eigenvectors:\n",
      "[[ 0.83205029 -0.70710678]\n",
      " [ 0.5547002   0.70710678]] \n",
      "\n",
      "Orthogonal?: no\n",
      "[[ 1.19 -0.04]\n",
      " [-0.04  0.81]] \n",
      "\n",
      "Decomposition:\n",
      "[[8. 3.]\n",
      " [2. 7.]] \n",
      "\n"
     ]
    }
   ],
   "source": [
    "A = np.array([[8, 3], [2, 7]])\n",
    "W, V = np.linalg.eig(A)\n",
    "print \"A:\\n\", A, \"\\n\"\n",
    "print \"eigenvalues:\\n\", np.diag(W), \"\\n\"\n",
    "print \"eigenvectors:\\n\", V, \"\\n\"\n",
    "print \"Orthogonal?: no\\n\", np.round(np.dot(V, V.T), 2), \"\\n\"\n",
    "print \"Decomposition:\\n\", np.dot(np.dot(V, np.diag(W)), np.linalg.inv(V)), \"\\n\""
   ]
  },
  {
   "cell_type": "markdown",
   "metadata": {
    "slideshow": {
     "slide_type": "slide"
    }
   },
   "source": [
    "For symmetric matrix $\\mathbf{A}$,\n",
    "$$\n",
    "\\mathbf{A} = \\mathbf{Q}\\mathbf{\\Lambda}\\mathbf{Q}^{-1}\n",
    "$$\n",
    "\n",
    "$\\mathbf{Q}$: $\\mathbf{Q}$ becomes orthogonal matrix <br>\n",
    "$\\mathbf{Λ}$: the diagonal matrix whose diagonal elements are the corresponding eigenvalues of $\\mathbf{A}$\n",
    "\n",
    "**Quiz**: <br>\n",
    "$$\n",
    "\\mathbf{A} =\n",
    "\\begin{bmatrix}\n",
    "    5 & 2 & 3\\\\\n",
    "    2 & 7 & 4\\\\\n",
    "    3 & 4 & 9\\\\\n",
    "\\end{bmatrix}\\\\\n",
    "$$\n",
    "\n",
    "1. $Q$が直交行列であることを確認しなさい。\n",
    "2. $QAQ^{-1}$であることを確認しなさい。"
   ]
  },
  {
   "cell_type": "code",
   "execution_count": 12,
   "metadata": {
    "slideshow": {
     "slide_type": "skip"
    }
   },
   "outputs": [
    {
     "name": "stdout",
     "output_type": "stream",
     "text": [
      "A:\n",
      "[[5 2 3]\n",
      " [2 7 4]\n",
      " [3 4 9]]\n",
      "eigenvalues:\n",
      "[[13.62347538  0.          0.        ]\n",
      " [ 0.          3.37652462  0.        ]\n",
      " [ 0.          0.          4.        ]] \n",
      "\n",
      "eigenvectors:\n",
      "[[-0.38508979 -0.82767094  0.40824829]\n",
      " [-0.55951021 -0.14241368 -0.81649658]\n",
      " [-0.73393063  0.54284358  0.40824829]] \n",
      "\n",
      "Orthogonal?: yes\n",
      "[[ 1.  0. -0.]\n",
      " [ 0.  1. -0.]\n",
      " [-0. -0.  1.]] \n",
      "\n",
      "Decomposition:\n",
      "[[5. 2. 3.]\n",
      " [2. 7. 4.]\n",
      " [3. 4. 9.]] \n",
      "\n"
     ]
    }
   ],
   "source": [
    "A = np.array([[5, 2, 3], [2, 7, 4], [3, 4, 9]])\n",
    "print \"A:\\n\", A\n",
    "W, Q = np.linalg.eig(A)\n",
    "print \"eigenvalues:\\n\", np.diag(W), \"\\n\"\n",
    "print \"eigenvectors:\\n\", Q, \"\\n\"\n",
    "print \"Orthogonal?: yes\\n\", np.round(np.dot(Q, Q.T), 2), \"\\n\"\n",
    "print \"Decomposition:\\n\", np.dot(np.dot(Q, np.diag(W)), np.linalg.inv(Q)), \"\\n\""
   ]
  },
  {
   "cell_type": "markdown",
   "metadata": {
    "slideshow": {
     "slide_type": "slide"
    }
   },
   "source": [
    "---\n",
    "## 4. Discusion <a name=\"Discusion\"></a>\n",
    "\n",
    "1. チームを組みましょう。\n",
    "2. ファイナルプロジェクトでどんなことをやりたい？\n",
    "\n",
    "例）<br>\n",
    "- 顔認識\n",
    "- 文字認識\n",
    "- 顧客情報の分析\n",
    "- ダイアモンドデータの分析\n",
    "- 温湿度センサーデータの関数付合\n",
    "- $\\vdots$"
   ]
  },
  {
   "cell_type": "code",
   "execution_count": null,
   "metadata": {
    "slideshow": {
     "slide_type": "skip"
    }
   },
   "outputs": [],
   "source": [
    "lenna_cv = cv2.imread(\"Figs/145px-Lenna.png\")\n",
    "lenna_cv = lenna_cv[:, :, ::-1]\n",
    "rows,cols,ch = lenna_cv.shape\n",
    "\n",
    "pts1 = np.float32([[50,50],[100,50],[20,0]])\n",
    "pts2 = np.float32([[10,100],[100,50],[20,0]])\n",
    "\n",
    "M = cv2.getAffineTransform(pts1,pts2)\n",
    "dst = cv2.warpAffine(lenna_cv,M,(cols,rows))\n",
    "\n",
    "\n",
    "plt.subplot(121),plt.imshow(lenna_cv),plt.title('Input')\n",
    "plt.subplot(122),plt.imshow(dst),plt.title('Output')"
   ]
  },
  {
   "cell_type": "code",
   "execution_count": null,
   "metadata": {
    "scrolled": true,
    "slideshow": {
     "slide_type": "skip"
    }
   },
   "outputs": [],
   "source": [
    "w, v = np.linalg.eig(lenna_cv[:, :, 0])\n",
    "v[:, 0]"
   ]
  },
  {
   "cell_type": "code",
   "execution_count": null,
   "metadata": {
    "slideshow": {
     "slide_type": "skip"
    }
   },
   "outputs": [],
   "source": [
    "w, v = np.linalg.eig(dst[:, :, 0])\n",
    "v[:, 0]"
   ]
  },
  {
   "cell_type": "code",
   "execution_count": null,
   "metadata": {
    "slideshow": {
     "slide_type": "skip"
    }
   },
   "outputs": [],
   "source": [
    "A = np.array([[1, 1], [1, -1]])\n",
    "\n",
    "plt.scatter(A[:, 0], A[:, 1])\n",
    "plt.xlim(-3, 3)\n",
    "plt.ylim(-3, 3)\n",
    "\n",
    "w, v = np.linalg.eig(A)\n",
    "print w\n",
    "print v"
   ]
  },
  {
   "cell_type": "code",
   "execution_count": null,
   "metadata": {
    "slideshow": {
     "slide_type": "skip"
    }
   },
   "outputs": [],
   "source": [
    "plt.scatter(np.dot(A, v[:, 0]), np.dot(A, v[:, 1]))\n",
    "plt.xlim(-3, 3)\n",
    "plt.ylim(-3, 3)"
   ]
  },
  {
   "cell_type": "code",
   "execution_count": null,
   "metadata": {
    "slideshow": {
     "slide_type": "skip"
    }
   },
   "outputs": [],
   "source": [
    "X = np.random.normal(10, 1, 2)\n",
    "Y = np.random.normal(10, 1, 2)\n",
    "data_1 = np.array(zip(X, Y))\n",
    "\n",
    "plt.scatter(data_1[:, 0], data_1[:, 1], c='r')\n",
    "plt.xlim(0, 50)\n",
    "plt.ylim(0, 50)"
   ]
  },
  {
   "cell_type": "code",
   "execution_count": null,
   "metadata": {
    "slideshow": {
     "slide_type": "skip"
    }
   },
   "outputs": [],
   "source": [
    "data_1 = np.array(zip(np.random.normal(10, 1, 100), np.random.normal(10, 1, 100)))\n",
    "\n",
    "#np.linalg.eig(data_1)\n",
    "data_1.shape"
   ]
  },
  {
   "cell_type": "code",
   "execution_count": null,
   "metadata": {
    "slideshow": {
     "slide_type": "skip"
    }
   },
   "outputs": [],
   "source": [
    "np.diag((1, 2, 3))"
   ]
  }
 ],
 "metadata": {
  "celltoolbar": "Slideshow",
  "kernelspec": {
   "display_name": "Python 2",
   "language": "python",
   "name": "python2"
  },
  "language_info": {
   "codemirror_mode": {
    "name": "ipython",
    "version": 2
   },
   "file_extension": ".py",
   "mimetype": "text/x-python",
   "name": "python",
   "nbconvert_exporter": "python",
   "pygments_lexer": "ipython2",
   "version": "2.7.14"
  }
 },
 "nbformat": 4,
 "nbformat_minor": 2
}
