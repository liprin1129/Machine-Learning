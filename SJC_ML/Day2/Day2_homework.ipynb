{
 "cells": [
  {
   "cell_type": "markdown",
   "metadata": {
    "slideshow": {
     "slide_type": "slide"
    }
   },
   "source": [
    "# Machine Learning and Adaptive Intelligence - Day 2"
   ]
  },
  {
   "cell_type": "markdown",
   "metadata": {
    "slideshow": {
     "slide_type": "slide"
    }
   },
   "source": [
    "## Table of Contents\n",
    "\n",
    "1. [From uncertainty to ML](#From_uncertainty_to_ML)<br>\n",
    "2. [Probability](#Probability)<br>\n",
    "    2.1. [Definition](#Definition)<br>\n",
    "    2.2. [Axiomatic Definition](#Axiomatic_Definition) <br>\n",
    "    2.3. [Conditional Probability](#Conditional_Probability) <br>\n",
    "    2.4. [Bayes' Theorem](#Bayes'_Theorem) <br>\n",
    "3. [Random Variable](#Random_Variable) <br>\n",
    "    3.1. [Definition R](#Definition_R) <br>\n",
    "    3.2. [Continuous random variable](#Continuous_random_variable) <br>\n",
    "    3.3. [Discrete random variable](#Discrete_random_variable) <br>\n",
    "4. [Distribution Function](#Distribution_Function) <br>\n",
    "5. [Probability Density Function](#Probability_Density_Function) <br>\n",
    "    5.1. [for continuous random variable](#for_continuous_random_variable) <br>\n",
    "    5.2. [for discrete random variable](#for_discrete_random_variable) <br>\n",
    "6. [Joint Probability](#Joint_Probability) <br>\n",
    "7. [Conditional Distribution](#Conditional_Distribution) <br>\n",
    "8. [Marginalisation Probability](#Marginalisation_Probability) <br>\n",
    "9. [Bayes' Rule](#Bayes'_Rule) <br>\n",
    "10. [Expectations](#Expectations) <br>\n",
    "    10.1. [Mean](#Mean) <br>\n",
    "    10.2. [Variance](#Variance)<br>\n",
    "11. [Covariance](#Covariance)<br>\n",
    "    11.1 [Covariance Matrix](#cov_matrix)<br>\n",
    "    12.2 [Pearson Correlation Coefficient](#pearson)<br>\n",
    "11. [Gaussian Distribuition](#Gaussian_Distribuition)<br>\n",
    "    11.1. [Multivariate Gaussian](#Multivariate_Gaussian)<br>\n",
    "12. [Exercise](#Exercise)"
   ]
  },
  {
   "cell_type": "markdown",
   "metadata": {
    "slideshow": {
     "slide_type": "slide"
    }
   },
   "source": [
    "---\n",
    "## 1. From uncertainty to ML (不確実性と確率)"
   ]
  },
  {
   "cell_type": "markdown",
   "metadata": {
    "slideshow": {
     "slide_type": "fragment"
    }
   },
   "source": [
    "<p align=\"center\">\n",
    "<img src='Figs/Uncertainty.jpg' width=500>\n",
    "</p>\n",
    "\n",
    "Fig reference: [Unknown Author is licensed under CC BY](https://creativecommons.org/licenses/by/2.0/)"
   ]
  },
  {
   "cell_type": "markdown",
   "metadata": {
    "slideshow": {
     "slide_type": "subslide"
    }
   },
   "source": [
    "<p align=\"center\">\n",
    "<img src='Figs/Uncertainty and Probability.png' width=500>\n",
    "</p>"
   ]
  },
  {
   "cell_type": "markdown",
   "metadata": {
    "slideshow": {
     "slide_type": "subslide"
    }
   },
   "source": [
    "**uncertainty** (不確実性): <br>\n",
    "有限空間の中にあるデータセットの計測（＝observation）ノイズ\n",
    "\n",
    "**probability theory** (確率理論): deals with ***averages*** of phenomena<br>\n",
    "不確実性の定量化と処理 <br>\n",
    "計測の回数が増加するごと、起これる全ての状況の平均に基づく\n",
    "\n",
    "**decision theory** (決定理論): <br>\n",
    "様々な決定アルゴリズム\n",
    "\n",
    "**optimal predictions** (最適な予測): <br>"
   ]
  },
  {
   "cell_type": "markdown",
   "metadata": {
    "slideshow": {
     "slide_type": "slide"
    }
   },
   "source": [
    "---\n",
    "## 2. Probability Theory (確率) <a name=\"Probability\"></a>"
   ]
  },
  {
   "cell_type": "markdown",
   "metadata": {
    "slideshow": {
     "slide_type": "subslide"
    }
   },
   "source": [
    "### 2.1. Definition <a name=\"Definition\"></a>\n",
    "\n",
    "$$\n",
    "\\mathbb{P} \\approx \\frac{n_A}{n}\\\\[10pt]\n",
    "$$\n",
    "\n",
    "$$\n",
    "\\begin{aligned}\n",
    "\\mathbb{P}[A] &= \\lim_{n \\rightarrow \\infty}  \\frac{n_A}{n} \\\\\n",
    "\\mathbb{P}[A] &= \\frac{N_A}{N}\n",
    "\\end{aligned}\n",
    "$$\n",
    "\n",
    "$n$ : a number of total observation（観察数）<br>\n",
    "$n_A$ a number of event *A* occured（特定のイベントが起きた数）"
   ]
  },
  {
   "cell_type": "markdown",
   "metadata": {
    "slideshow": {
     "slide_type": "subslide"
    }
   },
   "source": [
    "### 2.2. Axiomatic Definition（確率公理）<a name=\"Axiomatic_Definition\"></a>\n",
    "\n",
    "1. $\\mathbb{P}[A] \\geq 0$\n",
    "2. $\\mathbb{P}[\\Omega]=1$\n",
    "3. $\\mathbb{P}[A \\cup B]=\\mathbb{P}[A] + \\mathbb{P}[B]$ if only if events A and B are mutually exclusive, and A and B are independent\n",
    "4. $\\mathbb{P}[A \\cap B] = \\mathbb{P}[A] \\times \\mathbb{P}[B]$ if only if events A and B both occur, and A and B are independent\n",
    "5. $\\mathbb{P}[A \\cap B] = \\mathbb{P}[B] \\times \\mathbb{P}[A|B]$ if only if events A and B both occur, and A and B are dependent"
   ]
  },
  {
   "cell_type": "markdown",
   "metadata": {
    "slideshow": {
     "slide_type": "subslide"
    }
   },
   "source": [
    "** Quiz**: <br>\n",
    "１）二つの賽ごろを投げるとき、３或いは６になる確率 <br>\n",
    "２）二つの賽ごろを投げるとき、３と６になる確率"
   ]
  },
  {
   "cell_type": "markdown",
   "metadata": {
    "slideshow": {
     "slide_type": "fragment"
    }
   },
   "source": [
    "**Answer**: <br>\n",
    "１）二つの賽ごろを投げるとき、３或いは６になる確率 <br>\n",
    "$\\frac{1}{6} + \\frac{1}{6} = \\frac{2}{6} = \\frac{1}{3}$ <br>\n",
    "\n",
    "２）二つの賽ごろを投げるとき、３と６になる確率 <br>\n",
    "$\\frac{1}{6} \\times \\frac{1}{6} = \\frac{1}{36}$"
   ]
  },
  {
   "cell_type": "markdown",
   "metadata": {
    "slideshow": {
     "slide_type": "subslide"
    }
   },
   "source": [
    "### 2.3. Conditional Probability（条件付き確率）<a name=\"Conditional_Probability\"></a>\n",
    "\n",
    "$$\n",
    "\\mathbb{P}[B|A] = \\frac{ \\mathbb{P}[A \\cap B]}{ \\mathbb{P}[B]}\n",
    "$$\n",
    "Often one event will affect (be depend on) the outcome of another. <br>\n",
    "The probability that $B$ takes a particular value given that $A$ has taken a particular value. <br>\n",
    "「A が起こったときの B の（条件付き）確率」「条件 B の下での A の確率」"
   ]
  },
  {
   "cell_type": "markdown",
   "metadata": {
    "slideshow": {
     "slide_type": "subslide"
    }
   },
   "source": [
    "### 2.4. Bayes' Theorem（ベイズの定理）<a name=\"Bayes'_Theorem\"></a>\n",
    "\n",
    "$$\n",
    "\\mathbb{P}[B|A] = \\frac{ \\mathbb{P}[A|B] \\mathbb{P}[B] }{ \\mathbb{P}[A] }\n",
    "$$\n",
    "\n",
    "Bayes' theorem converts test result into the real probability of the event, by updating probabilities with prior knowledge.\n",
    "\n",
    "- $P[B|A]$: posterior probability. 事象 A が起きた後での、事象 B の確率 (事後確率) <br>\n",
    "- $P[B]$: prior probability. 事象 A が起きる前の、事象 B の確率（事前確率) <br>\n",
    "- $P[A|B]$: likelihood. (尤度) <br>\n",
    "- $P[A]$: normalizing probability. (標準化要素) <br>"
   ]
  },
  {
   "cell_type": "markdown",
   "metadata": {
    "slideshow": {
     "slide_type": "subslide"
    }
   },
   "source": [
    "**e.g.1**\n",
    "癌になる確率は1% <br>\n",
    "癌があって健診で癌が分かる確率は80% <br>\n",
    "健診を受けて癌が分かる確率は？<br>\n",
    "\n",
    "||cancer 1%|no cancer 99%|\n",
    "|------|------|------|\n",
    "|test positive|80%|9.6%|\n",
    "|test negative|20%|90.4%|"
   ]
  },
  {
   "cell_type": "markdown",
   "metadata": {
    "slideshow": {
     "slide_type": "fragment"
    }
   },
   "source": [
    "$$\n",
    "\\begin{aligned}\n",
    "A &= \\text{テストでポジティブになる確率} \\\\\n",
    "B &= \\text{癌がある確率}\n",
    "\\end{aligned}\n",
    "$$"
   ]
  },
  {
   "cell_type": "markdown",
   "metadata": {
    "slideshow": {
     "slide_type": "subslide"
    }
   },
   "source": [
    "$$\n",
    "\\mathbb{P}[B \\mid A] = \\frac{ \\mathbb{P}[A \\mid B] \\mathbb{P}[B]}{ \\mathbb{P}[A] }\n",
    "$$"
   ]
  },
  {
   "cell_type": "markdown",
   "metadata": {
    "slideshow": {
     "slide_type": "fragment"
    }
   },
   "source": [
    "$$\n",
    "\\begin{aligned}\n",
    "\\mathbb{P}[A \\mid B] &= 0.8\\\\\n",
    "\\mathbb{P}[B] &= 0.01\\\\\n",
    "\\mathbb{P}[A] &= 0.8 \\times 0.01 + 0.096 \\times 0.99 = 0.10304\\\\[10pt]\n",
    "\\therefore \\mathbb{P}[B \\mid A] &= \\frac{0.8 \\times 0.01}{0.10304} = 0.0776 \\approx 7.8\\%\n",
    "\\end{aligned}\n",
    "$$"
   ]
  },
  {
   "cell_type": "markdown",
   "metadata": {
    "slideshow": {
     "slide_type": "subslide"
    }
   },
   "source": [
    "**Quiz** <br>\n",
    "財布の中に二つのコインが入ってある。一つのコインは一つの面は絵、他の面には数字が書かれてある。<br>\n",
    "他のコインは裏と表両面に絵が描かれてある。<br>\n",
    "1. 財布からコインを取るとき、それが数字になる確率は？<br>\n",
    "2. そのコインをまた財布に入れて、もう一回一つのコインを出した。その時、また数字になる確率は？<br>\n",
    "\n",
    "<p align=\"center\">\n",
    "<img src='Figs/Coin.png' width=500>\n",
    "</p>"
   ]
  },
  {
   "cell_type": "markdown",
   "metadata": {
    "slideshow": {
     "slide_type": "slide"
    }
   },
   "source": [
    "---\n",
    "## 3. Random Variable (確率変数) <a name=\"Random_Variable\"></a>"
   ]
  },
  {
   "cell_type": "markdown",
   "metadata": {
    "slideshow": {
     "slide_type": "subslide"
    }
   },
   "source": [
    "### 3.1. Definition <a name=\"Definition_R\"></a>\n",
    "A variable whose possible values are outcomes of a random phenomenon. <br>\n",
    "ランダムな実験により得られ得る全ての結果を指す変数。<br>\n",
    "\n",
    "It allows to assign numerical values to *random event*. <br>\n",
    "確率変数はランダムなエベントに数値を与えれる。\n",
    "\n",
    "$$\n",
    "\\begin{aligned}\n",
    "X &:\\Omega \\rightarrow \\mathbb{R} \\\\[5pt]\n",
    ", \\text{where } &X \\text{ : random variable (確率変数)} \\\\\n",
    "&\\Omega \\text{ : sample space (標本空間)}\n",
    "\\end{aligned}\n",
    "$$\n",
    "\n",
    "Reference: [Wikipedia](https://en.wikipedia.org/wiki/Random_variable)"
   ]
  },
  {
   "cell_type": "markdown",
   "metadata": {
    "slideshow": {
     "slide_type": "subslide"
    }
   },
   "source": [
    "**e.g.**:<br>\n",
    "\n",
    "<p align=\"center\">\n",
    "<img src='Figs/Dice.png' width=200>\n",
    "</p>\n",
    "\n",
    "賽ごろを投げるとき、<br>\n",
    "1) sample space:? <br>\n",
    "2) random variable: ?"
   ]
  },
  {
   "cell_type": "markdown",
   "metadata": {
    "slideshow": {
     "slide_type": "fragment"
    }
   },
   "source": [
    "**answer:**<br>\n",
    "1) ${1, 2, 3, 4, 5, 6}$ <br>\n",
    "2) 数字。例えば、$X=1$ or $X=5$"
   ]
  },
  {
   "cell_type": "markdown",
   "metadata": {
    "slideshow": {
     "slide_type": "subslide"
    }
   },
   "source": [
    "**Quiz:**<br>\n",
    "二つの賽ごろを投げるとき、<br>\n",
    "1) sample space:? <br>\n",
    "2) random variable:?\n",
    "\n",
    "*hint: outcome is the some of the numbers of two dice after rolling.*"
   ]
  },
  {
   "cell_type": "markdown",
   "metadata": {
    "slideshow": {
     "slide_type": "subslide"
    }
   },
   "source": [
    "### 3.2. Continuous random variable (連続確率変数) <a name=\"Continuous_random_variable\"></a>\n",
    "\n",
    "takes values on a finite set. <br>\n",
    "連続的な値の標本空間から得られる確率変数。\n",
    "\n",
    "**e.g.** <br>\n",
    "100m駆け比べ <br>\n",
    "高さ <br>\n",
    "重さ <br>"
   ]
  },
  {
   "cell_type": "markdown",
   "metadata": {
    "slideshow": {
     "slide_type": "subslide"
    }
   },
   "source": [
    "### 3.3. Discrete random variable (離散確率変数) <a name=\"Discrete_random_variable\"></a>\n",
    "\n",
    "has acontinuous range of values. <br>\n",
    "有限な標本空間から得られる確率変数。\n",
    "\n",
    "**e.g.** <br>\n",
    "コインを投げる（裏、表） <br>\n",
    "ネットワークノードの失敗（ノードA、ノードB, など） <br>\n",
    "野球チームごとの十年間のスコア <br>\n",
    "賽ごろを投げる（1, 2, 3, 4, 5, 6) <br>"
   ]
  },
  {
   "cell_type": "markdown",
   "metadata": {
    "slideshow": {
     "slide_type": "subslide"
    }
   },
   "source": [
    "**e.g.:** <br>\n",
    "確率変数を使って、コインを投げるとき、裏と表になるそれぞれの確率を解きなさい。"
   ]
  },
  {
   "cell_type": "markdown",
   "metadata": {
    "slideshow": {
     "slide_type": "fragment"
    }
   },
   "source": [
    "Setting: 裏=0, 表=1\n",
    "\n",
    "$\\mathbb{P}[Y=0] = \\mathbb{P}[Y=1] = r$ <br>\n",
    "$\\mathbb{P}[0] + \\mathbb{P}[1] = 1$ <br>\n",
    "$2r = 1$ <br>\n",
    "$\\therefore r = \\frac{1}{2}$"
   ]
  },
  {
   "cell_type": "markdown",
   "metadata": {
    "slideshow": {
     "slide_type": "slide"
    }
   },
   "source": [
    "## 4. Distribution Function (分布関数）<a name=\"Distribution_Function\"></a>"
   ]
  },
  {
   "cell_type": "markdown",
   "metadata": {
    "slideshow": {
     "slide_type": "subslide"
    }
   },
   "source": [
    "Probability *distribution* comprises of the set of posible outcomes (all of the $x$) and their probabilities $\\mathbb{P}[X]$ in order to explain how the total probability 1 is distributed (or shared out) over all possible outcomes. <br>\n",
    "分布関数はトータル確率１がどのように分布されていることを説明するために、全ての可能なｘセットとその確率$\\mathbb{P}[X]$で構成される。\n",
    "\n",
    "<p align=\"center\">\n",
    "<img src='Figs/Distribution Functions.png' width=500>\n",
    "</p>\n",
    "\n",
    "$$\n",
    "\\begin{aligned}\n",
    "F_X &= \\mathbb{P}[X \\leq x], \\\\[5pt]\n",
    "&\\text{ where } x \\in (-\\infty, \\infty)\n",
    "\\end{aligned}\n",
    "$$\n",
    "\n",
    "- $F_X(-\\infty )= 0 $ and $F_X(\\infty )= 1 $\n",
    "- If $F_X(x_0) = 0$ then $F_X(x) = 0$ for all $x \\leq x_0$\n",
    "- $ \\mathbb{P}[X > x] = 1 - F_X(x)$\n",
    "- $\\mathbb{P}[x_1 < X \\leq x_2] = F_X(x_2) - F_X(x_1)$\n",
    "\n",
    "Fig reference: [ResearchGate](https://www.researchgate.net/figure/The-probability-distribution-function-PDF-and-cumulative-distribution-function-CDF-of_fig1_8588176)"
   ]
  },
  {
   "cell_type": "markdown",
   "metadata": {
    "slideshow": {
     "slide_type": "slide"
    }
   },
   "source": [
    "## 5. Probability Density Function (確率密度関数) <a name=\"Probability_Density_Function\"></a>"
   ]
  },
  {
   "cell_type": "markdown",
   "metadata": {
    "slideshow": {
     "slide_type": "subslide"
    }
   },
   "source": [
    "<p align=\"center\">\n",
    "<img src=\"Figs/Boxplot_vs_PDF.svg\" width=500>\n",
    "</p>\n",
    "\n",
    "$$\n",
    "f_X(x) = \\frac{dF_X(x)}{dx}\n",
    "$$\n",
    "\n",
    "Fig reference: [By Jhguch at en.wikipedia, CC BY-SA 2.5](https://commons.wikimedia.org/w/index.php?curid=14524285)"
   ]
  },
  {
   "cell_type": "markdown",
   "metadata": {
    "slideshow": {
     "slide_type": "subslide"
    }
   },
   "source": [
    "### 5.2. for discrete random variable <a name=\"for_discrete_random_variable\"></a>\n",
    "\n",
    "<p align=\"center\">\n",
    "<img src=\"Figs/Discrete_probability_distrib.svg\" width=400>\n",
    "</p>\n",
    "\n",
    "$$\n",
    "\\begin{aligned}\n",
    "P_X(x) &= \\sum_{i=1}^n p_i \\delta (x - x_i), \\\\[5pt]\n",
    "&\\text{where } n=\\mid {x:\\mathbb{P}[X=x]>0} \\mid, p_i = \\mathbb{P}[X = x_i], \\text{and } n \\in \\mathbb{R}_X\n",
    "\\end{aligned}\n",
    "$$\n",
    "\n",
    "Fig reference: [By Oleg Alexandrov - Own work, Public Domain](https://commons.wikimedia.org/w/index.php?curid=2073424)"
   ]
  },
  {
   "cell_type": "markdown",
   "metadata": {
    "slideshow": {
     "slide_type": "slide"
    }
   },
   "source": [
    "## 6. Joint Probability (同時分布) <a name=\"Joint_Probability\"></a>\n",
    "\n",
    "<p align=\"center\">\n",
    "<img src=\"Figs/Multivariate_normal_sample.svg\" width=300>\n",
    "</p>\n",
    "\n",
    "Fig reference: [By IkamusumeFan - Own work, CC BY-SA 3.0](https://commons.wikimedia.org/w/index.php?curid=30432580)"
   ]
  },
  {
   "cell_type": "markdown",
   "metadata": {
    "slideshow": {
     "slide_type": "fragment"
    }
   },
   "source": [
    "$$\n",
    "\\begin{align}\n",
    "\\mathbb{P}(Y=y_1, Y=y_2, Y=y_3, \\cdots, Y=y_j) &= \\mathbb{P}(y_1, y_2, y_3, \\cdots, y_j) \\\\\n",
    "& = \\mathbb{P}[y_1] \\times \\mathbb{P}[y_2] \\times \\mathbb{P}[y_3] \\times \\cdots \\mathbb{P}[y_j]\\\\\n",
    "&= \\prod_{j=1}^{j} \\mathbb{P}[y_j], \\text{ if only if all } y_j \\text{ is independent}\n",
    "\\end{align}\n",
    "$$"
   ]
  },
  {
   "cell_type": "markdown",
   "metadata": {
    "slideshow": {
     "slide_type": "slide"
    }
   },
   "source": [
    "## 8. Marginalisation Probability (周辺分布) <a name=\"Marginalisation_Probability\"></a>\n",
    "\n",
    "If the result would only expresses a specific outcome, it can be obtained by marginalising out independent random variables from the joint distribution. <br>\n",
    "同時分布から独立な確率変数を排除することで、イベントがただ一つの特定な結果を持つことを計算できる。\n",
    "\n",
    "<p align=\"center\">\n",
    "<img src=\"Figs/Multivariate_normal_sample.svg\" width=300>\n",
    "</p>\n",
    "\n",
    "Fig reference: [By IkamusumeFan - Own work, CC BY-SA 3.0](https://commons.wikimedia.org/w/index.php?curid=30432580)"
   ]
  },
  {
   "cell_type": "markdown",
   "metadata": {
    "slideshow": {
     "slide_type": "fragment"
    }
   },
   "source": [
    "$$\n",
    "\\begin{aligned}\n",
    "\\mathbb{p}[Y=y] &= \\sum_x \\mathbb{p}[Y=y, X=x] \\\\\n",
    "& = \\sum_x \\mathbb{p}[Y = y \\mid X = x] \\mathbb{P}[X = x]\n",
    "\\end{aligned}\n",
    "$$\n"
   ]
  },
  {
   "cell_type": "markdown",
   "metadata": {
    "slideshow": {
     "slide_type": "slide"
    }
   },
   "source": [
    "## 9. Bayes' Theorem <a name=\"Bayes'_Rule\"></a>\n",
    "\n",
    "$$\n",
    "\\begin{aligned}\n",
    "\\mathbb{P}[X=x \\mid Y=y] &= \\frac{ \\mathbb{P}[Y=y \\mid X=x] \\mathbb{P}[X=x] }{ \\mathbb{P}[Y=y] } \\\\\n",
    "&= \\frac{ \\mathbb{P}[Y=y \\mid X=x] \\mathbb{P}[X=x] }{ \\sum_n \\mathbb{P}[Y=y|X=x_n] \\mathbb{P}[X=x_n] }\n",
    "\\end{aligned}\n",
    "$$\n",
    "\n",
    "** With random variables and p.d.f., $f_X(x)$**\n",
    "\n",
    "$$\n",
    "f_{X \\mid A} = \\frac{ \\mathbb{P}[A \\mid X = x] }{ \\mathbb{P}[A] } f_X(x) = \\frac{ \\mathbb{P}[A \\mid X = x] f_X(x) }{ \\int_{-\\infty}^{\\infty} \\mathbb{P}[A \\mid X=x] f_X(x)dx }\n",
    "$$"
   ]
  },
  {
   "cell_type": "markdown",
   "metadata": {
    "slideshow": {
     "slide_type": "slide"
    }
   },
   "source": [
    "## 10. Expectations (期待値) <a name=\"Expectations\"></a>\n",
    "\n",
    "Expectation tells what value we would expect for some function $f_X(x)$ of a random variable $X$ to take and is defined. <br>\n",
    "期待値または平均は、確率変数の実現値を, 確率の重みで平均した値である。\n",
    "\n",
    "$$\n",
    "\\begin{aligned}\n",
    "\\text{For continuous random variable:} & \\\\\n",
    "&\\mathbb{E}_{F(x)}[f_X(x)] = \\mu_x = \\int_{-\\infty}^{\\infty} x f_X(x)dx\n",
    "\\end{aligned}\n",
    "$$\n",
    "\n",
    "$$\n",
    "\\begin{aligned}\n",
    "\\text{For discrete random variable:} & \\\\\n",
    "&\\mathbb{E}_{P(x)}[f_X(x)] = \\mu_x = \\sum_i P_X(x_i) x_i\n",
    "\\end{aligned}\n",
    "$$"
   ]
  },
  {
   "cell_type": "markdown",
   "metadata": {
    "slideshow": {
     "slide_type": "subslide"
    }
   },
   "source": [
    "### 10.1 Mean (平均値) <a name=\"Mean\"></a>\n",
    "The mean is an example of an expectation. <br>\n",
    "平均値は期待値の一つである。\n",
    "\n",
    "** Example **: <br>\n",
    "Expected value of $X, f(x)=X$ in one die.\n",
    "\n",
    "$$\n",
    "\\begin{aligned}\n",
    "\\mathbb{E}_{p(x)}[X] &= \\sum_x \\mathbb{P}[X] \\\\\n",
    "&= \\sum_x x \\frac{1}{6} = \\frac{1}{6} + \\frac{2}{6} + \\cdots + \\frac{6}{6} = \\frac{21}{6} = 3.5\n",
    "\\end{aligned}\n",
    "$$\n",
    "\n",
    "** Quiz** : <br> \n",
    "What is the expected value of one die if $f(x)=X^2$ ?"
   ]
  },
  {
   "cell_type": "markdown",
   "metadata": {
    "slideshow": {
     "slide_type": "subslide"
    }
   },
   "source": [
    "**$\\clubsuit$ Three case of expectation**\n",
    "\n",
    "- $\\text{if } f(x) = aX$ :\n",
    "$$\\mathbb{E}[f(x)] = f(\\mathbb{E}[X])$$\n",
    "\n",
    "- $\\text{if } f(x) = a$ :\n",
    "$$\\mathbb{E}[f(x)] = a$$\n",
    "\n",
    "- $\\text{if } \\mathbb{E}[f(x) + g(x)]$ :\n",
    "$$\\mathbb{E}[f(x)] + \\mathbb{E}[g(x)]$$"
   ]
  },
  {
   "cell_type": "markdown",
   "metadata": {
    "slideshow": {
     "slide_type": "fragment"
    }
   },
   "source": [
    "** Quiz **: <br>\n",
    "What is the conditional expectation of a continuous random variable $X$ given an event $M$? <br>\n",
    "$\\mathbb{E}[X|M] = ?$"
   ]
  },
  {
   "cell_type": "markdown",
   "metadata": {
    "slideshow": {
     "slide_type": "subslide"
    }
   },
   "source": [
    "### 10.2 Variance (分散) <a name=\"Variance\"></a>\n",
    "\n",
    "Variance is a measure of how variable the random variable is. <br>\n",
    "確率変数の2次の中心化モーメント. これは確率変数の分布が期待値からどれだけ散らばっているかを示す非負の値である.\n",
    "\n",
    "$$\n",
    "\\sigma^2_x = \\mathbb{E}\\big[ (X - \\mu_X)^2 \\big] = \\int_{-\\infty}^{\\infty} (x - \\mu_X)^2 f_X(x) dx\n",
    "$$\n",
    "\n",
    "** $\\clubsuit$ Moment ** :\n",
    "$$\n",
    "\\mathbb{E}\\big[ (X)^p \\big] = \\int_{-\\infty}^{\\infty} x^p f_X(x) dx\n",
    "$$\n",
    "\n",
    "** $\\clubsuit$ Central Moment ** :\n",
    "$$\n",
    "\\mathbb{E}\\big[ (X - \\mu_X)^p \\big] = \\int_{-\\infty}^{\\infty} (x - \\mu_X)^p f_X(x) dx\n",
    "$$"
   ]
  },
  {
   "cell_type": "markdown",
   "metadata": {
    "slideshow": {
     "slide_type": "slide"
    }
   },
   "source": [
    "### 11. Covariance (共分散) <a name=\"Covariance\"></a> \n",
    "\n",
    "- A measure of the joint variability of two random variables. \n",
    "- The sign of the covariance therefore shows the tendency in the linear relationship between the variables.\n",
    "- 変数の間の可変性を表す\n",
    "- 符号により線型的な可変性が分かる\n",
    "\n",
    "$$\n",
    "\\begin{aligned}\n",
    "\\text{Cov}[X, Y] &= \\Sigma[X] = \\mathbb{E}[ ( \\mathbf{X} - \\mathbb{E}[ \\mathbf{X} ] ) ( \\mathbf{Y} - \\mathbb{E}[ \\mathbf{Y} ] ) \\\\\n",
    "&= \\sum_{i=1}^N \\frac{ (x_i - \\bar{x}) (y_i - \\bar{y}) }{N}\n",
    "\\end{aligned}\n",
    "$$\n",
    "\n",
    "Fig renference: [Texts in Computer Science](https://www.researchgate.net/figure/33-Illustration-of-covariance-and-correlation_fig19_259147064)"
   ]
  },
  {
   "cell_type": "markdown",
   "metadata": {
    "slideshow": {
     "slide_type": "subslide"
    }
   },
   "source": [
    "### 11.1. Covariance Matrix (共分散行列) <a name='cov_matrix'></a>\n",
    "When dealing with vectors, *variance* is generalised to a *covariance matrix*. <br>\n",
    "2組の対応するデータ間での、平均からの偏差の積の平均値である。\n",
    "\n",
    "$$\n",
    "\\text{Cov}[X] = \\Sigma[X] = \\mathbb{E}[ ( \\mathbf{X} - \\mathbb{E}[ \\mathbf{X} ] ) ( \\mathbf{X} - \\mathbb{E}[ \\mathbf{X} ]^\\top )\n",
    "$$\n",
    "\n",
    "**Structure of covariance matrix**\n",
    "$$\n",
    "\\begin{bmatrix}\n",
    "    \\text{var}_{11} & \\text{cov}_{12} & \\dots  & \\text{cov}_{1n} \\\\\n",
    "    \\text{cov}_{21} & \\text{var} & \\dots  & \\text{cov}_{2n} \\\\\n",
    "    \\vdots & \\vdots & \\ddots & \\vdots \\\\\n",
    "    \\text{cov}_{n1} & \\text{cov}_{n2} & \\text{cov}_{n3} & \\text{var}\n",
    "\\end{bmatrix}\n",
    "$$"
   ]
  },
  {
   "cell_type": "markdown",
   "metadata": {
    "slideshow": {
     "slide_type": "subslide"
    }
   },
   "source": [
    "**Quiz:** <br>\n",
    "Calculate covariance matrix.\n",
    "\n",
    "$$\n",
    "\\begin{bmatrix}\n",
    "4 & 2 & 0.6\\\\\n",
    "4.2 & 2.1 & 0.59 \\\\\n",
    "3.9 & 2.0 & 0.58 \\\\\n",
    "4.3 & 2.1 & 0.62 \\\\\n",
    "4.1 & 2.2 & 0.63\n",
    "\\end{bmatrix}\n",
    "$$"
   ]
  },
  {
   "cell_type": "markdown",
   "metadata": {
    "slideshow": {
     "slide_type": "subslide"
    }
   },
   "source": [
    "### 11.2. Pearson Correlation Coeficient (相関係数) <a name='pearson'></a>\n",
    "\n",
    "相関係数は -1 から 1 までの値をとる。1 であれば 2 つの変数の値は完全に同期していることになる。\n",
    "\n",
    "<p align=\"center\">\n",
    "<img src=\"Figs/Correlation_examples2.svg.png\" width=500>\n",
    "</p>\n",
    "\n",
    "$$\n",
    "\\begin{aligned}\n",
    "\\rho_{X, Y} = \\frac{ \\text{Cov}[X, Y] }{\\sigma_X \\sigma_Y} ,\\quad \\text{where} &\\\\\n",
    "&\\text{Cov is the covariance}\\\\\n",
    "&\\sigma_{X} \\text{is the standard deviation of }X\\\\\n",
    "&\\sigma_Y \\text{is the standard deviation of } Y\n",
    "\\end{aligned}\n",
    "$$\n",
    "\n",
    "Fig reference: [By DenisBoigelot, original uploader was Imagecreator - Own work, original uploader was Imagecreator, CC0](https://commons.wikimedia.org/w/index.php?curid=15165296)"
   ]
  },
  {
   "cell_type": "markdown",
   "metadata": {
    "slideshow": {
     "slide_type": "subslide"
    }
   },
   "source": [
    "| 値 | 関係　|\n",
    "|------|------|\n",
    "|-1 ～ -0.7|強い負の相関|\n",
    "|-0.7 ～　-0.4|かなりの負の相関|\n",
    "|$\\vdots$|$\\vdots$|\n",
    "|0 ～ 0.2|ほとんど相関なし|\n",
    "|$\\vdots$|$\\vdots$|\n",
    "|0.7 ～ 1|強い正の相関|\n",
    "\n",
    "Reference: [Wiki](https://ja.wikipedia.org/wiki/%E5%85%B1%E5%88%86%E6%95%A3) <br>"
   ]
  },
  {
   "cell_type": "markdown",
   "metadata": {
    "slideshow": {
     "slide_type": "slide"
    }
   },
   "source": [
    "## 12. Gaussian Distribuition (正規分布、またはガウス分布) <a name=\"Gaussian_Distribuition\"></a>\n",
    "\n",
    "<p align=\"center\">\n",
    "<img src=\"Figs/Normal_Distribution_PDF.svg\" width=500>\n",
    "</p>\n",
    "\n",
    "$$\n",
    "P(y \\mid \\mu, \\sigma) = \\frac{1}{\\sigma \\sqrt{2 \\pi}} e^{- \\frac{1}{2 \\sigma ^2} (y - \\mu)^2 }\n",
    "$$\n",
    "\n",
    "平均値の付近に集積するようなデータの分布を表した連続的な変数に関する確率分布である。"
   ]
  },
  {
   "cell_type": "markdown",
   "metadata": {
    "slideshow": {
     "slide_type": "subslide"
    }
   },
   "source": [
    "### 12.1 Multivariate Gaussian (多変数正規分布) <a name=\"Multivariate_Gaussian\"></a>\n",
    "\n",
    "<p align=\"center\">\n",
    "<img src=\"Figs/Multivariate_normal.png\" width=500>\n",
    "</p>\n",
    "\n",
    "For $\\mathbf{X} = {x_1, x_2, \\cdots, x_D}$,\n",
    "$$\n",
    "P(\\mathbf{X}) = \\frac{1}{2 \\pi^{ D/2 } } \\mid\\Sigma \\mid ^{1/2} exp \\big[ - \\frac{1}{2} (\\mathbf{X} - \\mathbf{\\mu})^\\top \\Sigma^{-1} (\\mathbf{X} - \\mathbf{\\mu}) \\big]\n",
    "$$"
   ]
  },
  {
   "cell_type": "markdown",
   "metadata": {
    "slideshow": {
     "slide_type": "slide"
    }
   },
   "source": [
    "# 13. Exercise <a name='Exercise'></a>"
   ]
  },
  {
   "cell_type": "code",
   "execution_count": null,
   "metadata": {
    "slideshow": {
     "slide_type": "slide"
    }
   },
   "outputs": [],
   "source": [
    "from sklearn import datasets\n",
    "import numpy as np\n",
    "import pandas as pd\n",
    "import matplotlib.pyplot as plt\n",
    "%matplotlib inline  \n",
    "from pandas.plotting import scatter_matrix\n",
    "from scipy.stats import norm\n",
    "\n",
    "iris = datasets.load_iris()\n",
    "# https://en.wikipedia.org/wiki/Iris_flower_data_set"
   ]
  },
  {
   "cell_type": "markdown",
   "metadata": {
    "slideshow": {
     "slide_type": "slide"
    }
   },
   "source": [
    "## 1. Investigating the Data\n",
    "https://en.wikipedia.org/wiki/Iris_flower_data_set"
   ]
  },
  {
   "cell_type": "markdown",
   "metadata": {
    "slideshow": {
     "slide_type": "subslide"
    }
   },
   "source": [
    "### 1.1. Dataset Characteristic"
   ]
  },
  {
   "cell_type": "code",
   "execution_count": null,
   "metadata": {
    "slideshow": {
     "slide_type": "subslide"
    }
   },
   "outputs": [],
   "source": [
    "iris_data_df = pd.DataFrame(iris.data)\n",
    "iris_data_df.head(5)"
   ]
  },
  {
   "cell_type": "code",
   "execution_count": null,
   "metadata": {
    "slideshow": {
     "slide_type": "subslide"
    }
   },
   "outputs": [],
   "source": [
    "iris_data_df.tail(5)"
   ]
  },
  {
   "cell_type": "markdown",
   "metadata": {
    "slideshow": {
     "slide_type": "subslide"
    }
   },
   "source": [
    "**e.g.:** <br>\n",
    "1. How are many samples in the dataset?\n",
    "2. How are many variables in the dataset?\n",
    "3. How many dimensions?"
   ]
  },
  {
   "cell_type": "code",
   "execution_count": null,
   "metadata": {
    "slideshow": {
     "slide_type": "subslide"
    }
   },
   "outputs": [],
   "source": [
    "scatter_matrix(iris_data_df)\n",
    "#scatter_matrix(iris_data_df, diagonal='kde')\n",
    "plt.figure(figsize=(10,10))"
   ]
  },
  {
   "cell_type": "markdown",
   "metadata": {
    "slideshow": {
     "slide_type": "slide"
    }
   },
   "source": [
    "**高い相関係数の場合**"
   ]
  },
  {
   "cell_type": "code",
   "execution_count": null,
   "metadata": {
    "slideshow": {
     "slide_type": "subslide"
    }
   },
   "outputs": [],
   "source": [
    "fig, ax = plt.subplots(1, 2, figsize=(10, 5))\n",
    "\n",
    "Setosa = iris.data[iris.target == 0]\n",
    "Versicolour = iris.data[iris.target == 1]\n",
    "Virginica = iris.data[iris.target == 2]\n",
    "\n",
    "\n",
    "ax[0].scatter(Setosa[:, 0], Setosa[:, 2], c='r')\n",
    "ax[0].scatter(Versicolour[:, 0], Versicolour[:, 2], c='b')\n",
    "ax[0].scatter(Virginica[:, 0], Virginica[:, 2], c='y')\n",
    "\n",
    "ax[1].scatter(Setosa[:, 3], Setosa[:, 2], c='r')\n",
    "ax[1].scatter(Versicolour[:, 3], Versicolour[:, 2], c='b')\n",
    "ax[1].scatter(Virginica[:, 3], Virginica[:, 2], c='y')"
   ]
  },
  {
   "cell_type": "code",
   "execution_count": null,
   "metadata": {
    "slideshow": {
     "slide_type": "subslide"
    }
   },
   "outputs": [],
   "source": [
    "fig, ax = plt.subplots(1, 2, figsize=(10, 5))\n",
    "\n",
    "ax[0].scatter(Setosa[:, 1], Setosa[:, 0], c='r')\n",
    "ax[0].scatter(Versicolour[:, 1], Versicolour[:, 0], c='b')\n",
    "ax[0].scatter(Virginica[:, 1], Virginica[:, 0], c='y')\n",
    "\n",
    "ax[1].scatter(Setosa[:, 3], Setosa[:, 1], c='r')\n",
    "ax[1].scatter(Versicolour[:, 3], Versicolour[:, 1], c='b')\n",
    "ax[1].scatter(Virginica[:, 3], Virginica[:, 1], c='y')"
   ]
  },
  {
   "cell_type": "markdown",
   "metadata": {
    "slideshow": {
     "slide_type": "subslide"
    }
   },
   "source": [
    "**Quiz: do programming**<br>\n",
    "irisデータ（iris.data）のCovariance Matrixを計算しなさい。"
   ]
  },
  {
   "cell_type": "code",
   "execution_count": null,
   "metadata": {
    "slideshow": {
     "slide_type": "subslide"
    }
   },
   "outputs": [],
   "source": [
    "# Anser:\n",
    "iris_cov = None"
   ]
  },
  {
   "cell_type": "code",
   "execution_count": null,
   "metadata": {
    "slideshow": {
     "slide_type": "fragment"
    }
   },
   "outputs": [],
   "source": [
    "print iris_cov"
   ]
  },
  {
   "cell_type": "markdown",
   "metadata": {
    "slideshow": {
     "slide_type": "slide"
    }
   },
   "source": [
    "### 1.2. Data Wrangling"
   ]
  },
  {
   "cell_type": "code",
   "execution_count": null,
   "metadata": {
    "slideshow": {
     "slide_type": "subslide"
    }
   },
   "outputs": [],
   "source": [
    "# Seperate train and test dataset\n",
    "\n",
    "rd_idx = np.random.randint(0, len(iris.data), 5)\n",
    "\n",
    "iris_data = iris.data\n",
    "iris_target = iris.target\n",
    "\n",
    "X_test = iris_data[rd_idx]\n",
    "Y_test = iris_target[rd_idx]\n",
    "\n",
    "X_train = np.delete(iris_data, rd_idx, axis=0)\n",
    "Y_train = np.delete(iris_target, rd_idx, axis=0)\n",
    "\n",
    "print \"Random index: \", rd_idx\n",
    "print \"Number(length) of entire dataset: \", len(iris_data)\n",
    "print \"Length of training set: \", len(X_train)\n",
    "print \"Length of test set: \", len(X_test)"
   ]
  },
  {
   "cell_type": "markdown",
   "metadata": {
    "slideshow": {
     "slide_type": "slide"
    }
   },
   "source": [
    "### 1.3. Choose Algorithm: Gaussian Naive Bayes Classifier\n",
    "\n",
    "** Recipe 1) Bayes' theorem **\n",
    "\n",
    "$$\n",
    "\\text{posterior} = \\frac{ \\text{prior} \\times \\text{likelihood} }{ \\text{evidence} }\n",
    "$$\n",
    "\n",
    "*Explain on the white board!*"
   ]
  },
  {
   "cell_type": "markdown",
   "metadata": {
    "slideshow": {
     "slide_type": "subslide"
    }
   },
   "source": [
    "** Recipe 2) Guasian Distribution to find conditional probability** <br>\n",
    "$$p(x_i \\mid y) = \\frac{1}{ \\sqrt{2 \\pi \\sigma_y^2} } \\text{exp} \\big( - \\frac{ (x_i - \\mu_y)^2 }{ 2 \\sigma_y^2 } \\big)$$"
   ]
  },
  {
   "cell_type": "markdown",
   "metadata": {
    "slideshow": {
     "slide_type": "subslide"
    }
   },
   "source": [
    "** Recipe 3) Navie conditional independence assumption**<br>\n",
    "Assumtion that each feature $x_{i}$ is conditionally independent of every other feature $x_{j}$ for $j \\neq i$, given the category $C_{k}$.\n",
    "\n",
    "$$\n",
    "p(x_1 \\mid x_2, x_3, \\cdots, x_n, C_k) = p(x_1|C_k)\n",
    "$$\n",
    "\n",
    "Reference: [Wiki](https://en.wikipedia.org/wiki/Naive_Bayes_classifier)"
   ]
  },
  {
   "cell_type": "markdown",
   "metadata": {
    "slideshow": {
     "slide_type": "subslide"
    }
   },
   "source": [
    "$$\n",
    "\\begin{aligned}\n",
    "p(x_1, x_2, x_3, x_4, C_k) &= p(x_1 \\mid x_2, x_3, x_4, C_k)p(x_2, x_3, x_4, C_k)\\\\ \n",
    "&\\vdots \\\\\n",
    "&= p(x_1 \\mid x_2, x_3, x_4, C_k)p(x_2 \\mid x_3, x_4, C_k)p(x_3, x_4, C_k) \\cdots p(x_4 \\mid C_k)p(C_k) \\\\[10pt]\n",
    "&\\downarrow \\text{ using navie condition independence assuption} \\\\[10pt]\n",
    "&=p(x_1 \\mid C_k)p(x_2 \\mid C_k)p(x_3 \\mid C_k)p(x_4 \\mid C_k)p(C_k) \\\\\n",
    "&=p(C_k) \\prod_{i=1}^{4} p(x_i \\mid C_k)\n",
    "\\end{aligned}\n",
    "$$"
   ]
  },
  {
   "cell_type": "code",
   "execution_count": null,
   "metadata": {
    "slideshow": {
     "slide_type": "fragment"
    }
   },
   "outputs": [],
   "source": [
    "from sklearn.naive_bayes import GaussianNB\n",
    "gnb = GaussianNB()\n",
    "gnb.fit(X_train, Y_train)\n",
    "y_pred = gnb.predict(X_test)\n",
    "\n",
    "print \"Correct answer: \", Y_test\n",
    "print \"Predicted result: \", y_pred"
   ]
  },
  {
   "cell_type": "markdown",
   "metadata": {
    "slideshow": {
     "slide_type": "slide"
    }
   },
   "source": [
    "### 1.4.  Let's make our own classifier!"
   ]
  },
  {
   "cell_type": "markdown",
   "metadata": {
    "slideshow": {
     "slide_type": "subslide"
    }
   },
   "source": [
    "**Setosaになる確率:**"
   ]
  },
  {
   "cell_type": "code",
   "execution_count": null,
   "metadata": {
    "slideshow": {
     "slide_type": "fragment"
    }
   },
   "outputs": [],
   "source": [
    "p_s = \"Setosa\""
   ]
  },
  {
   "cell_type": "code",
   "execution_count": null,
   "metadata": {
    "slideshow": {
     "slide_type": "fragment"
    }
   },
   "outputs": [],
   "source": [
    "print \"Probability of Setosa: \", p_s"
   ]
  },
  {
   "cell_type": "markdown",
   "metadata": {
    "slideshow": {
     "slide_type": "subslide"
    }
   },
   "source": [
    "**Versicolourになる確率:**"
   ]
  },
  {
   "cell_type": "code",
   "execution_count": null,
   "metadata": {
    "slideshow": {
     "slide_type": "fragment"
    }
   },
   "outputs": [],
   "source": [
    "p_ve = \"Versicolour\""
   ]
  },
  {
   "cell_type": "code",
   "execution_count": null,
   "metadata": {
    "slideshow": {
     "slide_type": "fragment"
    }
   },
   "outputs": [],
   "source": [
    "print \"Probability of Versicolour: \", p_ve"
   ]
  },
  {
   "cell_type": "markdown",
   "metadata": {
    "slideshow": {
     "slide_type": "subslide"
    }
   },
   "source": [
    "**Virginicaになる確率:**"
   ]
  },
  {
   "cell_type": "code",
   "execution_count": null,
   "metadata": {
    "slideshow": {
     "slide_type": "fragment"
    }
   },
   "outputs": [],
   "source": [
    "p_vi = \"Virginical\""
   ]
  },
  {
   "cell_type": "code",
   "execution_count": null,
   "metadata": {
    "slideshow": {
     "slide_type": "fragment"
    }
   },
   "outputs": [],
   "source": [
    "print \"Probability of Virginical: \", p_vi"
   ]
  },
  {
   "cell_type": "code",
   "execution_count": null,
   "metadata": {
    "slideshow": {
     "slide_type": "subslide"
    }
   },
   "outputs": [],
   "source": [
    "# Check probabilities\n",
    "print \"Total probability: \", int(p_s + p_ve + p_vi)"
   ]
  },
  {
   "cell_type": "markdown",
   "metadata": {
    "slideshow": {
     "slide_type": "slide"
    }
   },
   "source": [
    "** Mean of variables (1st and 2nd moments): **"
   ]
  },
  {
   "cell_type": "code",
   "execution_count": null,
   "metadata": {
    "slideshow": {
     "slide_type": "fragment"
    }
   },
   "outputs": [],
   "source": [
    "u = None\n",
    "u_setosa = None\n",
    "u_versicolour = None\n",
    "u_virginical = None"
   ]
  },
  {
   "cell_type": "code",
   "execution_count": null,
   "metadata": {
    "slideshow": {
     "slide_type": "fragment"
    }
   },
   "outputs": [],
   "source": [
    "print \"Mean of Variables: \", u\n",
    "print \"Mean of Setosa: \", u_setosa\n",
    "print \"Mean of Versicolour: \", u_versicolour\n",
    "print \"Mean of Virginical: \", u_virginical"
   ]
  },
  {
   "cell_type": "markdown",
   "metadata": {
    "slideshow": {
     "slide_type": "slide"
    }
   },
   "source": [
    "** Variance of variables: **"
   ]
  },
  {
   "cell_type": "code",
   "execution_count": null,
   "metadata": {
    "slideshow": {
     "slide_type": "fragment"
    }
   },
   "outputs": [],
   "source": [
    "sig = None\n",
    "s_setosa = None\n",
    "s_versicolour = None\n",
    "s_virginical = None"
   ]
  },
  {
   "cell_type": "code",
   "execution_count": null,
   "metadata": {
    "slideshow": {
     "slide_type": "fragment"
    }
   },
   "outputs": [],
   "source": [
    "print \"Variance: \", sig\n",
    "print \"Variance of Setosa: \", s_setosa\n",
    "print \"Variance of Versicolour: \", s_versicolour\n",
    "print \"Variance of Virginical: \", s_virginical"
   ]
  },
  {
   "cell_type": "markdown",
   "metadata": {
    "slideshow": {
     "slide_type": "slide"
    }
   },
   "source": [
    "** Gaussian Distribution **"
   ]
  },
  {
   "cell_type": "markdown",
   "metadata": {
    "slideshow": {
     "slide_type": "fragment"
    }
   },
   "source": [
    "$$\n",
    "P(y \\mid \\mu, \\sigma) = \\frac{1}{\\sigma \\sqrt{2 \\pi}} e^{- \\frac{1}{2 \\sigma ^2} (y - \\mu)^2 }\n",
    "$$"
   ]
  },
  {
   "cell_type": "code",
   "execution_count": null,
   "metadata": {
    "slideshow": {
     "slide_type": "fragment"
    }
   },
   "outputs": [],
   "source": [
    "def gaussian_distribution():\n",
    "    \n",
    "    return None"
   ]
  },
  {
   "cell_type": "markdown",
   "metadata": {
    "slideshow": {
     "slide_type": "slide"
    }
   },
   "source": [
    "** Joint probabilities with bayes' assumption **"
   ]
  },
  {
   "cell_type": "markdown",
   "metadata": {
    "slideshow": {
     "slide_type": "fragment"
    }
   },
   "source": [
    "$p(v_1 \\mid \\text{Setos}) \\times p(v_2 \\mid \\text{Setos}) \\times p(v_3 \\mid \\text{Setos}) \\times p(v_4 \\mid \\text{Setos}) = ?$"
   ]
  },
  {
   "cell_type": "code",
   "execution_count": null,
   "metadata": {
    "slideshow": {
     "slide_type": "fragment"
    }
   },
   "outputs": [],
   "source": [
    "p1 = None"
   ]
  },
  {
   "cell_type": "code",
   "execution_count": null,
   "metadata": {
    "slideshow": {
     "slide_type": "fragment"
    }
   },
   "outputs": [],
   "source": [
    "print \"Joint probabilities of conditional Setos: \", p1"
   ]
  },
  {
   "cell_type": "markdown",
   "metadata": {
    "slideshow": {
     "slide_type": "subslide"
    }
   },
   "source": [
    "$p(v_1 \\mid \\text{Versicolour}) \\times p(v_2 \\mid \\text{Versicolour}) \\times p(v_3 \\mid \\text{Versicolour}) \\times p(v_4 \\mid \\text{Versicolour}) = ?$"
   ]
  },
  {
   "cell_type": "code",
   "execution_count": null,
   "metadata": {
    "slideshow": {
     "slide_type": "fragment"
    }
   },
   "outputs": [],
   "source": [
    "p2 = None"
   ]
  },
  {
   "cell_type": "code",
   "execution_count": null,
   "metadata": {
    "slideshow": {
     "slide_type": "fragment"
    }
   },
   "outputs": [],
   "source": [
    "print \"Joint probabilities of conditional Versicolour: \", p2"
   ]
  },
  {
   "cell_type": "markdown",
   "metadata": {
    "slideshow": {
     "slide_type": "subslide"
    }
   },
   "source": [
    "$p(v_1 \\mid \\text{Virginical}) \\times p(v_2 \\mid \\text{Virginical}) \\times p(v_3 \\mid \\text{Virginical}) \\times p(v_4 \\mid \\text{Virginical}) = ?$"
   ]
  },
  {
   "cell_type": "code",
   "execution_count": null,
   "metadata": {
    "slideshow": {
     "slide_type": "fragment"
    }
   },
   "outputs": [],
   "source": [
    "p3 = None"
   ]
  },
  {
   "cell_type": "code",
   "execution_count": null,
   "metadata": {
    "slideshow": {
     "slide_type": "fragment"
    }
   },
   "outputs": [],
   "source": [
    "print \"Joint probabilities of conditional Virginical: \", p3"
   ]
  },
  {
   "cell_type": "markdown",
   "metadata": {
    "slideshow": {
     "slide_type": "slide"
    }
   },
   "source": [
    "** Prediction **"
   ]
  },
  {
   "cell_type": "code",
   "execution_count": null,
   "metadata": {
    "slideshow": {
     "slide_type": "fragment"
    }
   },
   "outputs": [],
   "source": [
    "print \"Correct answer: \", Y_test[test_idx]\n",
    "print \"Predicted result: \", np.argmax([p_s*p1, p_ve*p2, p_vi*p3])"
   ]
  }
 ],
 "metadata": {
  "celltoolbar": "Raw Cell Format",
  "kernelspec": {
   "display_name": "Python 2",
   "language": "python",
   "name": "python2"
  },
  "language_info": {
   "codemirror_mode": {
    "name": "ipython",
    "version": 2
   },
   "file_extension": ".py",
   "mimetype": "text/x-python",
   "name": "python",
   "nbconvert_exporter": "python",
   "pygments_lexer": "ipython2",
   "version": "2.7.10"
  }
 },
 "nbformat": 4,
 "nbformat_minor": 2
}
