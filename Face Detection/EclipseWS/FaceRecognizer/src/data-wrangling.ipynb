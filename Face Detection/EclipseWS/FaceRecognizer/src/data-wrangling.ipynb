{
 "cells": [
  {
   "cell_type": "code",
   "execution_count": 1,
   "metadata": {},
   "outputs": [],
   "source": [
    "import numpy as np\n",
    "from tqdm import tqdm\n",
    "import matplotlib.pyplot as plt\n",
    "#%matplotlib inline\n",
    "import cv2\n",
    "\n",
    "# For one hot encoding\n",
    "from sklearn.preprocessing import LabelBinarizer\n",
    "from sklearn.preprocessing import OneHotEncoder"
   ]
  },
  {
   "cell_type": "code",
   "execution_count": 2,
   "metadata": {},
   "outputs": [],
   "source": [
    "import pickle\n",
    "\n",
    "def save_to_pickle(path = None, name = None, data = None):\n",
    "    with open(path+name, \"wb\") as f:\n",
    "        print(\"\\t => Save '{0}' to '{1}'\".format(name, path))\n",
    "        pickle.dump(data, f)\n",
    "        \n",
    "def unpickle(file):\n",
    "    with open(file, 'rb') as fo:\n",
    "        dictionary = pickle.load(fo, encoding='bytes')\n",
    "    return dictionary"
   ]
  },
  {
   "cell_type": "code",
   "execution_count": 3,
   "metadata": {},
   "outputs": [],
   "source": [
    "import os\n",
    "\n",
    "#os.listdir(\"/mnt/SharedData/Development/Personal_Dev/Machine-Learning/Data/Face/Face-SJC/\")\n",
    "#os.listdir(\"/Users/user170/Developments/Personal-Dev./Machine-Learning/Data/Face-SJC\")\n",
    "\n",
    "root_dir = \"/Users/user170/Developments/Personal-Dev./Machine-Learning/Data/Face-SJC/\""
   ]
  },
  {
   "cell_type": "markdown",
   "metadata": {},
   "source": [
    "### dataset preprocessing: merge 100 sample images (converting colour map, resize)"
   ]
  },
  {
   "cell_type": "code",
   "execution_count": 4,
   "metadata": {
    "scrolled": true
   },
   "outputs": [
    {
     "name": "stderr",
     "output_type": "stream",
     "text": [
      "100%|██████████| 11/11 [00:08<00:00,  1.29it/s]\n"
     ]
    },
    {
     "name": "stdout",
     "output_type": "stream",
     "text": [
      "\t => Save 'employee-faces.pkl' to '/Users/user170/Developments/Personal-Dev./Machine-Learning/Data/Face-SJC/'\n"
     ]
    }
   ],
   "source": [
    "def face_sampling(root_path, sample_size):\n",
    "    ref_idx = 0\n",
    "    ref_dict = {}\n",
    "    labels = []\n",
    "    imgs_cv = []\n",
    "    \n",
    "    root_path = os.listdir(root_dir)\n",
    "    \n",
    "    for child in tqdm(root_path):\n",
    "        child_path = root_dir + child\n",
    "        if os.path.isdir(child_path):\n",
    "            img_names = np.array(os.listdir(child_path))\n",
    "            \n",
    "            # Sample\n",
    "            batch_index = np.random.choice(len(img_names), size=sample_size)\n",
    "            img_names = img_names[batch_index]\n",
    "            \n",
    "            for img_name in img_names:\n",
    "                img_cv = cv2.imread(child_path+'/'+img_name, -1)\n",
    "                \n",
    "                # Convert rgba -> bgr\n",
    "                img_cv = cv2.cvtColor(img_cv, cv2.COLOR_RGBA2BGR)\n",
    "                \n",
    "                # Reshape image to 224x224\n",
    "                img_cv = cv2.resize(img_cv,(224, 224), interpolation = cv2.INTER_CUBIC)\n",
    "                \n",
    "                imgs_cv.append(img_cv)\n",
    "                labels.append(ref_idx) # save a label\n",
    "\n",
    "            #imgs_cv = np.array(imgs_cv)\n",
    "            #print(imgs_cv.shape)\n",
    "            #save_to_pickle(root_dir, child+\".pkl\", imgs_cv)\n",
    "            \n",
    "            #print(child_path)\n",
    "            # Make label reference dictionary\n",
    "            ref_dict[ref_idx] = child+\".pkl\"\n",
    "            ref_idx += 1\n",
    "\n",
    "    # Convert list to numpy array\n",
    "    imgs_cv = np.array(imgs_cv)\n",
    "    labels = np.array(labels)\n",
    "    \n",
    "    # Shuffle the dataset\n",
    "    shuffle_idx = np.arange(len(imgs_cv))\n",
    "    np.random.shuffle(shuffle_idx)\n",
    "    imgs_cv = imgs_cv[shuffle_idx]\n",
    "    labels = labels[shuffle_idx]\n",
    "    \n",
    "    # Save to pickle\n",
    "    save_to_pickle(root_dir, \"employee-faces.pkl\", {\"data\":imgs_cv, \"labels\":labels, \"ref_labels\":ref_dict})\n",
    "    \n",
    "    return imgs_cv, labels, ref_dict\n",
    "            \n",
    "features, labels, references = face_sampling(root_dir, 100)\n"
   ]
  },
  {
   "cell_type": "code",
   "execution_count": null,
   "metadata": {},
   "outputs": [],
   "source": [
    "fig, ax = plt.subplots(1, 10, figsize=(20, 10))\n",
    "\n",
    "for i in range(10):\n",
    "    idx = np.random.randint(len(labels))\n",
    "    ax[i].imshow(features[idx])\n",
    "    ax[i].set_title(references[labels[idx]])"
   ]
  }
 ],
 "metadata": {
  "kernelspec": {
   "display_name": "Python 3",
   "language": "python",
   "name": "python3"
  },
  "language_info": {
   "codemirror_mode": {
    "name": "ipython",
    "version": 3
   },
   "file_extension": ".py",
   "mimetype": "text/x-python",
   "name": "python",
   "nbconvert_exporter": "python",
   "pygments_lexer": "ipython3",
   "version": "3.6.7"
  }
 },
 "nbformat": 4,
 "nbformat_minor": 2
}
